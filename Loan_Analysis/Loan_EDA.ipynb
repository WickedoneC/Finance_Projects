{
 "cells": [
  {
   "cell_type": "code",
   "execution_count": 303,
   "metadata": {},
   "outputs": [],
   "source": [
    "import pandas as pd\n",
    "pd.options.display.max_columns = 200\n",
    "import numpy as np\n",
    "\n",
    "\n",
    "def prettyTable(dataframe, column):\n",
    "    z = pd.DataFrame(columns = [dataframe[column].value_counts(True).index, round(dataframe[column].value_counts(True) * 100, 2).astype(str) + '%', dataframe[column].value_counts()]).T\n",
    "    return z"
   ]
  },
  {
   "cell_type": "code",
   "execution_count": 276,
   "metadata": {},
   "outputs": [],
   "source": [
    "# loans_full_schema = pd.read_csv('loans_full_schema.csv')\n",
    "# print(loans_full_schema['loan_status'].value_counts(dropna = False))\n",
    "# loans_full_schema"
   ]
  },
  {
   "cell_type": "code",
   "execution_count": 277,
   "metadata": {},
   "outputs": [],
   "source": [
    "# accepted_2007_to_2018Q4 = pd.read_csv('accepted_2007_to_2018Q4.csv', nrows = 10000)\n",
    "# accepted_2007_to_2018Q4 = accepted_2007_to_2018Q4[sorted(accepted_2007_to_2018Q4.columns.tolist())]\n",
    "# print(accepted_2007_to_2018Q4['loan_status'].value_counts(dropna = False))\n",
    "# accepted_2007_to_2018Q4"
   ]
  },
  {
   "cell_type": "code",
   "execution_count": null,
   "metadata": {},
   "outputs": [],
   "source": []
  },
  {
   "cell_type": "markdown",
   "metadata": {},
   "source": [
    "## Cleaning and Initial EDA"
   ]
  },
  {
   "cell_type": "code",
   "execution_count": 278,
   "metadata": {},
   "outputs": [
    {
     "data": {
      "text/html": [
       "<div>\n",
       "<style scoped>\n",
       "    .dataframe tbody tr th:only-of-type {\n",
       "        vertical-align: middle;\n",
       "    }\n",
       "\n",
       "    .dataframe tbody tr th {\n",
       "        vertical-align: top;\n",
       "    }\n",
       "\n",
       "    .dataframe thead th {\n",
       "        text-align: right;\n",
       "    }\n",
       "</style>\n",
       "<table border=\"1\" class=\"dataframe\">\n",
       "  <thead>\n",
       "    <tr style=\"text-align: right;\">\n",
       "      <th></th>\n",
       "      <th>person_age</th>\n",
       "      <th>person_income</th>\n",
       "      <th>person_home_ownership</th>\n",
       "      <th>person_emp_length</th>\n",
       "      <th>loan_intent</th>\n",
       "      <th>loan_grade</th>\n",
       "      <th>loan_amnt</th>\n",
       "      <th>loan_int_rate</th>\n",
       "      <th>loan_status</th>\n",
       "      <th>loan_percent_income</th>\n",
       "      <th>cb_person_default_on_file</th>\n",
       "      <th>cb_person_cred_hist_length</th>\n",
       "    </tr>\n",
       "  </thead>\n",
       "  <tbody>\n",
       "    <tr>\n",
       "      <th>0</th>\n",
       "      <td>22</td>\n",
       "      <td>59000</td>\n",
       "      <td>RENT</td>\n",
       "      <td>123.0</td>\n",
       "      <td>PERSONAL</td>\n",
       "      <td>D</td>\n",
       "      <td>35000</td>\n",
       "      <td>16.02</td>\n",
       "      <td>1</td>\n",
       "      <td>0.59</td>\n",
       "      <td>Y</td>\n",
       "      <td>3</td>\n",
       "    </tr>\n",
       "    <tr>\n",
       "      <th>1</th>\n",
       "      <td>21</td>\n",
       "      <td>9600</td>\n",
       "      <td>OWN</td>\n",
       "      <td>5.0</td>\n",
       "      <td>EDUCATION</td>\n",
       "      <td>B</td>\n",
       "      <td>1000</td>\n",
       "      <td>11.14</td>\n",
       "      <td>0</td>\n",
       "      <td>0.10</td>\n",
       "      <td>N</td>\n",
       "      <td>2</td>\n",
       "    </tr>\n",
       "    <tr>\n",
       "      <th>2</th>\n",
       "      <td>25</td>\n",
       "      <td>9600</td>\n",
       "      <td>MORTGAGE</td>\n",
       "      <td>1.0</td>\n",
       "      <td>MEDICAL</td>\n",
       "      <td>C</td>\n",
       "      <td>5500</td>\n",
       "      <td>12.87</td>\n",
       "      <td>1</td>\n",
       "      <td>0.57</td>\n",
       "      <td>N</td>\n",
       "      <td>3</td>\n",
       "    </tr>\n",
       "    <tr>\n",
       "      <th>3</th>\n",
       "      <td>23</td>\n",
       "      <td>65500</td>\n",
       "      <td>RENT</td>\n",
       "      <td>4.0</td>\n",
       "      <td>MEDICAL</td>\n",
       "      <td>C</td>\n",
       "      <td>35000</td>\n",
       "      <td>15.23</td>\n",
       "      <td>1</td>\n",
       "      <td>0.53</td>\n",
       "      <td>N</td>\n",
       "      <td>2</td>\n",
       "    </tr>\n",
       "    <tr>\n",
       "      <th>4</th>\n",
       "      <td>24</td>\n",
       "      <td>54400</td>\n",
       "      <td>RENT</td>\n",
       "      <td>8.0</td>\n",
       "      <td>MEDICAL</td>\n",
       "      <td>C</td>\n",
       "      <td>35000</td>\n",
       "      <td>14.27</td>\n",
       "      <td>1</td>\n",
       "      <td>0.55</td>\n",
       "      <td>Y</td>\n",
       "      <td>4</td>\n",
       "    </tr>\n",
       "    <tr>\n",
       "      <th>...</th>\n",
       "      <td>...</td>\n",
       "      <td>...</td>\n",
       "      <td>...</td>\n",
       "      <td>...</td>\n",
       "      <td>...</td>\n",
       "      <td>...</td>\n",
       "      <td>...</td>\n",
       "      <td>...</td>\n",
       "      <td>...</td>\n",
       "      <td>...</td>\n",
       "      <td>...</td>\n",
       "      <td>...</td>\n",
       "    </tr>\n",
       "    <tr>\n",
       "      <th>32576</th>\n",
       "      <td>57</td>\n",
       "      <td>53000</td>\n",
       "      <td>MORTGAGE</td>\n",
       "      <td>1.0</td>\n",
       "      <td>PERSONAL</td>\n",
       "      <td>C</td>\n",
       "      <td>5800</td>\n",
       "      <td>13.16</td>\n",
       "      <td>0</td>\n",
       "      <td>0.11</td>\n",
       "      <td>N</td>\n",
       "      <td>30</td>\n",
       "    </tr>\n",
       "    <tr>\n",
       "      <th>32577</th>\n",
       "      <td>54</td>\n",
       "      <td>120000</td>\n",
       "      <td>MORTGAGE</td>\n",
       "      <td>4.0</td>\n",
       "      <td>PERSONAL</td>\n",
       "      <td>A</td>\n",
       "      <td>17625</td>\n",
       "      <td>7.49</td>\n",
       "      <td>0</td>\n",
       "      <td>0.15</td>\n",
       "      <td>N</td>\n",
       "      <td>19</td>\n",
       "    </tr>\n",
       "    <tr>\n",
       "      <th>32578</th>\n",
       "      <td>65</td>\n",
       "      <td>76000</td>\n",
       "      <td>RENT</td>\n",
       "      <td>3.0</td>\n",
       "      <td>HOMEIMPROVEMENT</td>\n",
       "      <td>B</td>\n",
       "      <td>35000</td>\n",
       "      <td>10.99</td>\n",
       "      <td>1</td>\n",
       "      <td>0.46</td>\n",
       "      <td>N</td>\n",
       "      <td>28</td>\n",
       "    </tr>\n",
       "    <tr>\n",
       "      <th>32579</th>\n",
       "      <td>56</td>\n",
       "      <td>150000</td>\n",
       "      <td>MORTGAGE</td>\n",
       "      <td>5.0</td>\n",
       "      <td>PERSONAL</td>\n",
       "      <td>B</td>\n",
       "      <td>15000</td>\n",
       "      <td>11.48</td>\n",
       "      <td>0</td>\n",
       "      <td>0.10</td>\n",
       "      <td>N</td>\n",
       "      <td>26</td>\n",
       "    </tr>\n",
       "    <tr>\n",
       "      <th>32580</th>\n",
       "      <td>66</td>\n",
       "      <td>42000</td>\n",
       "      <td>RENT</td>\n",
       "      <td>2.0</td>\n",
       "      <td>MEDICAL</td>\n",
       "      <td>B</td>\n",
       "      <td>6475</td>\n",
       "      <td>9.99</td>\n",
       "      <td>0</td>\n",
       "      <td>0.15</td>\n",
       "      <td>N</td>\n",
       "      <td>30</td>\n",
       "    </tr>\n",
       "  </tbody>\n",
       "</table>\n",
       "<p>32581 rows × 12 columns</p>\n",
       "</div>"
      ],
      "text/plain": [
       "       person_age  person_income person_home_ownership  person_emp_length  \\\n",
       "0              22          59000                  RENT              123.0   \n",
       "1              21           9600                   OWN                5.0   \n",
       "2              25           9600              MORTGAGE                1.0   \n",
       "3              23          65500                  RENT                4.0   \n",
       "4              24          54400                  RENT                8.0   \n",
       "...           ...            ...                   ...                ...   \n",
       "32576          57          53000              MORTGAGE                1.0   \n",
       "32577          54         120000              MORTGAGE                4.0   \n",
       "32578          65          76000                  RENT                3.0   \n",
       "32579          56         150000              MORTGAGE                5.0   \n",
       "32580          66          42000                  RENT                2.0   \n",
       "\n",
       "           loan_intent loan_grade  loan_amnt  loan_int_rate  loan_status  \\\n",
       "0             PERSONAL          D      35000          16.02            1   \n",
       "1            EDUCATION          B       1000          11.14            0   \n",
       "2              MEDICAL          C       5500          12.87            1   \n",
       "3              MEDICAL          C      35000          15.23            1   \n",
       "4              MEDICAL          C      35000          14.27            1   \n",
       "...                ...        ...        ...            ...          ...   \n",
       "32576         PERSONAL          C       5800          13.16            0   \n",
       "32577         PERSONAL          A      17625           7.49            0   \n",
       "32578  HOMEIMPROVEMENT          B      35000          10.99            1   \n",
       "32579         PERSONAL          B      15000          11.48            0   \n",
       "32580          MEDICAL          B       6475           9.99            0   \n",
       "\n",
       "       loan_percent_income cb_person_default_on_file  \\\n",
       "0                     0.59                         Y   \n",
       "1                     0.10                         N   \n",
       "2                     0.57                         N   \n",
       "3                     0.53                         N   \n",
       "4                     0.55                         Y   \n",
       "...                    ...                       ...   \n",
       "32576                 0.11                         N   \n",
       "32577                 0.15                         N   \n",
       "32578                 0.46                         N   \n",
       "32579                 0.10                         N   \n",
       "32580                 0.15                         N   \n",
       "\n",
       "       cb_person_cred_hist_length  \n",
       "0                               3  \n",
       "1                               2  \n",
       "2                               3  \n",
       "3                               2  \n",
       "4                               4  \n",
       "...                           ...  \n",
       "32576                          30  \n",
       "32577                          19  \n",
       "32578                          28  \n",
       "32579                          26  \n",
       "32580                          30  \n",
       "\n",
       "[32581 rows x 12 columns]"
      ]
     },
     "execution_count": 278,
     "metadata": {},
     "output_type": "execute_result"
    }
   ],
   "source": [
    "cr_loan2 = pd.read_csv('cr_loan2.csv')\n",
    "cr_loan2"
   ]
  },
  {
   "cell_type": "code",
   "execution_count": 279,
   "metadata": {},
   "outputs": [
    {
     "name": "stdout",
     "output_type": "stream",
     "text": [
      "0    0.781836\n",
      "1    0.218164\n",
      "Name: loan_status, dtype: float64\n"
     ]
    },
    {
     "data": {
      "text/plain": [
       "0    25473\n",
       "1     7108\n",
       "Name: loan_status, dtype: int64"
      ]
     },
     "execution_count": 279,
     "metadata": {},
     "output_type": "execute_result"
    }
   ],
   "source": [
    "print(cr_loan2['loan_status'].value_counts(True, dropna = False))\n",
    "cr_loan2['loan_status'].value_counts(dropna = False)"
   ]
  },
  {
   "cell_type": "code",
   "execution_count": 280,
   "metadata": {},
   "outputs": [
    {
     "data": {
      "text/plain": [
       "person_age                       0\n",
       "person_income                    0\n",
       "person_home_ownership            0\n",
       "person_emp_length              895\n",
       "loan_intent                      0\n",
       "loan_grade                       0\n",
       "loan_amnt                        0\n",
       "loan_int_rate                 3116\n",
       "loan_status                      0\n",
       "loan_percent_income              0\n",
       "cb_person_default_on_file        0\n",
       "cb_person_cred_hist_length       0\n",
       "dtype: int64"
      ]
     },
     "execution_count": 280,
     "metadata": {},
     "output_type": "execute_result"
    }
   ],
   "source": [
    "df = cr_loan2.copy()\n",
    "df.isna().sum()"
   ]
  },
  {
   "cell_type": "code",
   "execution_count": 281,
   "metadata": {},
   "outputs": [
    {
     "name": "stdout",
     "output_type": "stream",
     "text": [
      "<class 'pandas.core.frame.DataFrame'>\n",
      "RangeIndex: 32581 entries, 0 to 32580\n",
      "Data columns (total 12 columns):\n",
      " #   Column                      Non-Null Count  Dtype  \n",
      "---  ------                      --------------  -----  \n",
      " 0   person_age                  32581 non-null  int64  \n",
      " 1   person_income               32581 non-null  int64  \n",
      " 2   person_home_ownership       32581 non-null  object \n",
      " 3   person_emp_length           31686 non-null  float64\n",
      " 4   loan_intent                 32581 non-null  object \n",
      " 5   loan_grade                  32581 non-null  object \n",
      " 6   loan_amnt                   32581 non-null  int64  \n",
      " 7   loan_int_rate               29465 non-null  float64\n",
      " 8   loan_status                 32581 non-null  int64  \n",
      " 9   loan_percent_income         32581 non-null  float64\n",
      " 10  cb_person_default_on_file   32581 non-null  object \n",
      " 11  cb_person_cred_hist_length  32581 non-null  int64  \n",
      "dtypes: float64(3), int64(5), object(4)\n",
      "memory usage: 3.0+ MB\n"
     ]
    }
   ],
   "source": [
    "df.info()"
   ]
  },
  {
   "cell_type": "code",
   "execution_count": 282,
   "metadata": {},
   "outputs": [
    {
     "name": "stdout",
     "output_type": "stream",
     "text": [
      "4.789686296787225\n",
      "11.01169489224439\n"
     ]
    }
   ],
   "source": [
    "mean_pel = df[df['person_emp_length'].isna() != True]['person_emp_length'].mean()\n",
    "mean_lir = df[df['loan_int_rate'].isna() != True]['loan_int_rate'].mean()\n",
    "\n",
    "print(mean_pel)\n",
    "print(mean_lir)"
   ]
  },
  {
   "cell_type": "code",
   "execution_count": 283,
   "metadata": {},
   "outputs": [
    {
     "data": {
      "text/plain": [
       "23.22"
      ]
     },
     "execution_count": 283,
     "metadata": {},
     "output_type": "execute_result"
    }
   ],
   "source": [
    "min(df['loan_int_rate'])\n",
    "max(df['loan_int_rate'])"
   ]
  },
  {
   "cell_type": "code",
   "execution_count": 284,
   "metadata": {},
   "outputs": [],
   "source": [
    "df['loan_int_rate'] = df['loan_int_rate'].fillna(mean_lir)\n",
    "df['person_emp_length'] = df['person_emp_length'].fillna(mean_pel)"
   ]
  },
  {
   "cell_type": "code",
   "execution_count": 285,
   "metadata": {},
   "outputs": [
    {
     "data": {
      "text/plain": [
       "person_age                    0\n",
       "person_income                 0\n",
       "person_home_ownership         0\n",
       "person_emp_length             0\n",
       "loan_intent                   0\n",
       "loan_grade                    0\n",
       "loan_amnt                     0\n",
       "loan_int_rate                 0\n",
       "loan_status                   0\n",
       "loan_percent_income           0\n",
       "cb_person_default_on_file     0\n",
       "cb_person_cred_hist_length    0\n",
       "dtype: int64"
      ]
     },
     "execution_count": 285,
     "metadata": {},
     "output_type": "execute_result"
    }
   ],
   "source": [
    "df.isna().sum()"
   ]
  },
  {
   "cell_type": "code",
   "execution_count": 286,
   "metadata": {},
   "outputs": [
    {
     "data": {
      "text/html": [
       "<div>\n",
       "<style scoped>\n",
       "    .dataframe tbody tr th:only-of-type {\n",
       "        vertical-align: middle;\n",
       "    }\n",
       "\n",
       "    .dataframe tbody tr th {\n",
       "        vertical-align: top;\n",
       "    }\n",
       "\n",
       "    .dataframe thead th {\n",
       "        text-align: right;\n",
       "    }\n",
       "</style>\n",
       "<table border=\"1\" class=\"dataframe\">\n",
       "  <thead>\n",
       "    <tr style=\"text-align: right;\">\n",
       "      <th></th>\n",
       "      <th>person_age</th>\n",
       "      <th>person_income</th>\n",
       "      <th>person_home_ownership</th>\n",
       "      <th>person_emp_length</th>\n",
       "      <th>loan_intent</th>\n",
       "      <th>loan_grade</th>\n",
       "      <th>loan_amnt</th>\n",
       "      <th>loan_int_rate</th>\n",
       "      <th>loan_status</th>\n",
       "      <th>loan_percent_income</th>\n",
       "      <th>cb_person_default_on_file</th>\n",
       "      <th>cb_person_cred_hist_length</th>\n",
       "    </tr>\n",
       "  </thead>\n",
       "  <tbody>\n",
       "    <tr>\n",
       "      <th>0</th>\n",
       "      <td>22</td>\n",
       "      <td>59000</td>\n",
       "      <td>RENT</td>\n",
       "      <td>123.0</td>\n",
       "      <td>PERSONAL</td>\n",
       "      <td>D</td>\n",
       "      <td>35000</td>\n",
       "      <td>16.02</td>\n",
       "      <td>1</td>\n",
       "      <td>0.59</td>\n",
       "      <td>Y</td>\n",
       "      <td>3</td>\n",
       "    </tr>\n",
       "    <tr>\n",
       "      <th>1</th>\n",
       "      <td>21</td>\n",
       "      <td>9600</td>\n",
       "      <td>OWN</td>\n",
       "      <td>5.0</td>\n",
       "      <td>EDUCATION</td>\n",
       "      <td>B</td>\n",
       "      <td>1000</td>\n",
       "      <td>11.14</td>\n",
       "      <td>0</td>\n",
       "      <td>0.10</td>\n",
       "      <td>N</td>\n",
       "      <td>2</td>\n",
       "    </tr>\n",
       "    <tr>\n",
       "      <th>2</th>\n",
       "      <td>25</td>\n",
       "      <td>9600</td>\n",
       "      <td>MORTGAGE</td>\n",
       "      <td>1.0</td>\n",
       "      <td>MEDICAL</td>\n",
       "      <td>C</td>\n",
       "      <td>5500</td>\n",
       "      <td>12.87</td>\n",
       "      <td>1</td>\n",
       "      <td>0.57</td>\n",
       "      <td>N</td>\n",
       "      <td>3</td>\n",
       "    </tr>\n",
       "    <tr>\n",
       "      <th>3</th>\n",
       "      <td>23</td>\n",
       "      <td>65500</td>\n",
       "      <td>RENT</td>\n",
       "      <td>4.0</td>\n",
       "      <td>MEDICAL</td>\n",
       "      <td>C</td>\n",
       "      <td>35000</td>\n",
       "      <td>15.23</td>\n",
       "      <td>1</td>\n",
       "      <td>0.53</td>\n",
       "      <td>N</td>\n",
       "      <td>2</td>\n",
       "    </tr>\n",
       "    <tr>\n",
       "      <th>4</th>\n",
       "      <td>24</td>\n",
       "      <td>54400</td>\n",
       "      <td>RENT</td>\n",
       "      <td>8.0</td>\n",
       "      <td>MEDICAL</td>\n",
       "      <td>C</td>\n",
       "      <td>35000</td>\n",
       "      <td>14.27</td>\n",
       "      <td>1</td>\n",
       "      <td>0.55</td>\n",
       "      <td>Y</td>\n",
       "      <td>4</td>\n",
       "    </tr>\n",
       "  </tbody>\n",
       "</table>\n",
       "</div>"
      ],
      "text/plain": [
       "   person_age  person_income person_home_ownership  person_emp_length  \\\n",
       "0          22          59000                  RENT              123.0   \n",
       "1          21           9600                   OWN                5.0   \n",
       "2          25           9600              MORTGAGE                1.0   \n",
       "3          23          65500                  RENT                4.0   \n",
       "4          24          54400                  RENT                8.0   \n",
       "\n",
       "  loan_intent loan_grade  loan_amnt  loan_int_rate  loan_status  \\\n",
       "0    PERSONAL          D      35000          16.02            1   \n",
       "1   EDUCATION          B       1000          11.14            0   \n",
       "2     MEDICAL          C       5500          12.87            1   \n",
       "3     MEDICAL          C      35000          15.23            1   \n",
       "4     MEDICAL          C      35000          14.27            1   \n",
       "\n",
       "   loan_percent_income cb_person_default_on_file  cb_person_cred_hist_length  \n",
       "0                 0.59                         Y                           3  \n",
       "1                 0.10                         N                           2  \n",
       "2                 0.57                         N                           3  \n",
       "3                 0.53                         N                           2  \n",
       "4                 0.55                         Y                           4  "
      ]
     },
     "execution_count": 286,
     "metadata": {},
     "output_type": "execute_result"
    }
   ],
   "source": [
    "df.head()"
   ]
  },
  {
   "cell_type": "code",
   "execution_count": 287,
   "metadata": {},
   "outputs": [
    {
     "data": {
      "text/plain": [
       "A    0.330776\n",
       "B    0.320770\n",
       "C    0.198214\n",
       "D    0.111292\n",
       "E    0.029588\n",
       "F    0.007397\n",
       "G    0.001964\n",
       "Name: loan_grade, dtype: float64"
      ]
     },
     "execution_count": 287,
     "metadata": {},
     "output_type": "execute_result"
    }
   ],
   "source": [
    "df.loan_grade.value_counts(True)"
   ]
  },
  {
   "cell_type": "code",
   "execution_count": 288,
   "metadata": {},
   "outputs": [
    {
     "data": {
      "text/plain": [
       "N    0.82367\n",
       "Y    0.17633\n",
       "Name: cb_person_default_on_file, dtype: float64"
      ]
     },
     "execution_count": 288,
     "metadata": {},
     "output_type": "execute_result"
    }
   ],
   "source": [
    "df.cb_person_default_on_file.value_counts(True)"
   ]
  },
  {
   "cell_type": "code",
   "execution_count": 289,
   "metadata": {},
   "outputs": [
    {
     "data": {
      "text/plain": [
       "144"
      ]
     },
     "execution_count": 289,
     "metadata": {},
     "output_type": "execute_result"
    }
   ],
   "source": [
    "min(df.person_age)\n",
    "max(df.person_age)"
   ]
  },
  {
   "cell_type": "code",
   "execution_count": 290,
   "metadata": {},
   "outputs": [
    {
     "data": {
      "text/html": [
       "<div>\n",
       "<style scoped>\n",
       "    .dataframe tbody tr th:only-of-type {\n",
       "        vertical-align: middle;\n",
       "    }\n",
       "\n",
       "    .dataframe tbody tr th {\n",
       "        vertical-align: top;\n",
       "    }\n",
       "\n",
       "    .dataframe thead th {\n",
       "        text-align: right;\n",
       "    }\n",
       "</style>\n",
       "<table border=\"1\" class=\"dataframe\">\n",
       "  <thead>\n",
       "    <tr style=\"text-align: right;\">\n",
       "      <th></th>\n",
       "      <th>person_age</th>\n",
       "      <th>person_income</th>\n",
       "      <th>person_home_ownership</th>\n",
       "      <th>person_emp_length</th>\n",
       "      <th>loan_intent</th>\n",
       "      <th>loan_grade</th>\n",
       "      <th>loan_amnt</th>\n",
       "      <th>loan_int_rate</th>\n",
       "      <th>loan_status</th>\n",
       "      <th>loan_percent_income</th>\n",
       "      <th>cb_person_default_on_file</th>\n",
       "      <th>cb_person_cred_hist_length</th>\n",
       "    </tr>\n",
       "  </thead>\n",
       "  <tbody>\n",
       "    <tr>\n",
       "      <th>81</th>\n",
       "      <td>144</td>\n",
       "      <td>250000</td>\n",
       "      <td>RENT</td>\n",
       "      <td>4.0</td>\n",
       "      <td>VENTURE</td>\n",
       "      <td>C</td>\n",
       "      <td>4800</td>\n",
       "      <td>13.570000</td>\n",
       "      <td>0</td>\n",
       "      <td>0.02</td>\n",
       "      <td>N</td>\n",
       "      <td>3</td>\n",
       "    </tr>\n",
       "    <tr>\n",
       "      <th>183</th>\n",
       "      <td>144</td>\n",
       "      <td>200000</td>\n",
       "      <td>MORTGAGE</td>\n",
       "      <td>4.0</td>\n",
       "      <td>EDUCATION</td>\n",
       "      <td>B</td>\n",
       "      <td>6000</td>\n",
       "      <td>11.860000</td>\n",
       "      <td>0</td>\n",
       "      <td>0.03</td>\n",
       "      <td>N</td>\n",
       "      <td>2</td>\n",
       "    </tr>\n",
       "    <tr>\n",
       "      <th>575</th>\n",
       "      <td>123</td>\n",
       "      <td>80004</td>\n",
       "      <td>RENT</td>\n",
       "      <td>2.0</td>\n",
       "      <td>EDUCATION</td>\n",
       "      <td>B</td>\n",
       "      <td>20400</td>\n",
       "      <td>10.250000</td>\n",
       "      <td>0</td>\n",
       "      <td>0.25</td>\n",
       "      <td>N</td>\n",
       "      <td>3</td>\n",
       "    </tr>\n",
       "    <tr>\n",
       "      <th>747</th>\n",
       "      <td>123</td>\n",
       "      <td>78000</td>\n",
       "      <td>RENT</td>\n",
       "      <td>7.0</td>\n",
       "      <td>VENTURE</td>\n",
       "      <td>B</td>\n",
       "      <td>20000</td>\n",
       "      <td>11.011695</td>\n",
       "      <td>0</td>\n",
       "      <td>0.26</td>\n",
       "      <td>N</td>\n",
       "      <td>4</td>\n",
       "    </tr>\n",
       "    <tr>\n",
       "      <th>32297</th>\n",
       "      <td>144</td>\n",
       "      <td>6000000</td>\n",
       "      <td>MORTGAGE</td>\n",
       "      <td>12.0</td>\n",
       "      <td>PERSONAL</td>\n",
       "      <td>C</td>\n",
       "      <td>5000</td>\n",
       "      <td>12.730000</td>\n",
       "      <td>0</td>\n",
       "      <td>0.00</td>\n",
       "      <td>N</td>\n",
       "      <td>25</td>\n",
       "    </tr>\n",
       "    <tr>\n",
       "      <th>32355</th>\n",
       "      <td>78</td>\n",
       "      <td>48000</td>\n",
       "      <td>RENT</td>\n",
       "      <td>41.0</td>\n",
       "      <td>MEDICAL</td>\n",
       "      <td>A</td>\n",
       "      <td>3000</td>\n",
       "      <td>7.510000</td>\n",
       "      <td>0</td>\n",
       "      <td>0.06</td>\n",
       "      <td>N</td>\n",
       "      <td>25</td>\n",
       "    </tr>\n",
       "    <tr>\n",
       "      <th>32416</th>\n",
       "      <td>94</td>\n",
       "      <td>24000</td>\n",
       "      <td>RENT</td>\n",
       "      <td>1.0</td>\n",
       "      <td>MEDICAL</td>\n",
       "      <td>C</td>\n",
       "      <td>6500</td>\n",
       "      <td>11.011695</td>\n",
       "      <td>0</td>\n",
       "      <td>0.27</td>\n",
       "      <td>N</td>\n",
       "      <td>27</td>\n",
       "    </tr>\n",
       "    <tr>\n",
       "      <th>32422</th>\n",
       "      <td>80</td>\n",
       "      <td>64000</td>\n",
       "      <td>RENT</td>\n",
       "      <td>7.0</td>\n",
       "      <td>MEDICAL</td>\n",
       "      <td>B</td>\n",
       "      <td>6800</td>\n",
       "      <td>11.710000</td>\n",
       "      <td>0</td>\n",
       "      <td>0.11</td>\n",
       "      <td>N</td>\n",
       "      <td>25</td>\n",
       "    </tr>\n",
       "    <tr>\n",
       "      <th>32506</th>\n",
       "      <td>84</td>\n",
       "      <td>94800</td>\n",
       "      <td>MORTGAGE</td>\n",
       "      <td>2.0</td>\n",
       "      <td>PERSONAL</td>\n",
       "      <td>A</td>\n",
       "      <td>10000</td>\n",
       "      <td>7.510000</td>\n",
       "      <td>0</td>\n",
       "      <td>0.11</td>\n",
       "      <td>N</td>\n",
       "      <td>24</td>\n",
       "    </tr>\n",
       "    <tr>\n",
       "      <th>32534</th>\n",
       "      <td>76</td>\n",
       "      <td>75000</td>\n",
       "      <td>RENT</td>\n",
       "      <td>23.0</td>\n",
       "      <td>MEDICAL</td>\n",
       "      <td>A</td>\n",
       "      <td>15000</td>\n",
       "      <td>8.940000</td>\n",
       "      <td>0</td>\n",
       "      <td>0.20</td>\n",
       "      <td>N</td>\n",
       "      <td>25</td>\n",
       "    </tr>\n",
       "  </tbody>\n",
       "</table>\n",
       "</div>"
      ],
      "text/plain": [
       "       person_age  person_income person_home_ownership  person_emp_length  \\\n",
       "81            144         250000                  RENT                4.0   \n",
       "183           144         200000              MORTGAGE                4.0   \n",
       "575           123          80004                  RENT                2.0   \n",
       "747           123          78000                  RENT                7.0   \n",
       "32297         144        6000000              MORTGAGE               12.0   \n",
       "32355          78          48000                  RENT               41.0   \n",
       "32416          94          24000                  RENT                1.0   \n",
       "32422          80          64000                  RENT                7.0   \n",
       "32506          84          94800              MORTGAGE                2.0   \n",
       "32534          76          75000                  RENT               23.0   \n",
       "\n",
       "      loan_intent loan_grade  loan_amnt  loan_int_rate  loan_status  \\\n",
       "81        VENTURE          C       4800      13.570000            0   \n",
       "183     EDUCATION          B       6000      11.860000            0   \n",
       "575     EDUCATION          B      20400      10.250000            0   \n",
       "747       VENTURE          B      20000      11.011695            0   \n",
       "32297    PERSONAL          C       5000      12.730000            0   \n",
       "32355     MEDICAL          A       3000       7.510000            0   \n",
       "32416     MEDICAL          C       6500      11.011695            0   \n",
       "32422     MEDICAL          B       6800      11.710000            0   \n",
       "32506    PERSONAL          A      10000       7.510000            0   \n",
       "32534     MEDICAL          A      15000       8.940000            0   \n",
       "\n",
       "       loan_percent_income cb_person_default_on_file  \\\n",
       "81                    0.02                         N   \n",
       "183                   0.03                         N   \n",
       "575                   0.25                         N   \n",
       "747                   0.26                         N   \n",
       "32297                 0.00                         N   \n",
       "32355                 0.06                         N   \n",
       "32416                 0.27                         N   \n",
       "32422                 0.11                         N   \n",
       "32506                 0.11                         N   \n",
       "32534                 0.20                         N   \n",
       "\n",
       "       cb_person_cred_hist_length  \n",
       "81                              3  \n",
       "183                             2  \n",
       "575                             3  \n",
       "747                             4  \n",
       "32297                          25  \n",
       "32355                          25  \n",
       "32416                          27  \n",
       "32422                          25  \n",
       "32506                          24  \n",
       "32534                          25  "
      ]
     },
     "execution_count": 290,
     "metadata": {},
     "output_type": "execute_result"
    }
   ],
   "source": [
    "df[df.person_age > 75]"
   ]
  },
  {
   "cell_type": "code",
   "execution_count": 291,
   "metadata": {},
   "outputs": [
    {
     "data": {
      "text/plain": [
       "32576"
      ]
     },
     "execution_count": 291,
     "metadata": {},
     "output_type": "execute_result"
    }
   ],
   "source": [
    "df = df[df.person_age <= 100]\n",
    "len(df)"
   ]
  },
  {
   "cell_type": "code",
   "execution_count": 292,
   "metadata": {},
   "outputs": [
    {
     "data": {
      "text/plain": [
       "3441"
      ]
     },
     "execution_count": 292,
     "metadata": {},
     "output_type": "execute_result"
    }
   ],
   "source": [
    "len(df[df.loan_int_rate > 15])\n",
    "# len(df[df.loan_int_rate < 10])"
   ]
  },
  {
   "cell_type": "code",
   "execution_count": null,
   "metadata": {},
   "outputs": [],
   "source": []
  },
  {
   "cell_type": "code",
   "execution_count": 304,
   "metadata": {},
   "outputs": [
    {
     "data": {
      "text/html": [
       "<div>\n",
       "<style scoped>\n",
       "    .dataframe tbody tr th:only-of-type {\n",
       "        vertical-align: middle;\n",
       "    }\n",
       "\n",
       "    .dataframe tbody tr th {\n",
       "        vertical-align: top;\n",
       "    }\n",
       "\n",
       "    .dataframe thead th {\n",
       "        text-align: right;\n",
       "    }\n",
       "</style>\n",
       "<table border=\"1\" class=\"dataframe\">\n",
       "  <thead>\n",
       "    <tr style=\"text-align: right;\">\n",
       "      <th></th>\n",
       "      <th></th>\n",
       "      <th></th>\n",
       "    </tr>\n",
       "    <tr>\n",
       "      <th></th>\n",
       "      <th>int_group</th>\n",
       "      <th>int_group</th>\n",
       "    </tr>\n",
       "  </thead>\n",
       "  <tbody>\n",
       "    <tr>\n",
       "      <th>10% - 15%</th>\n",
       "      <th>54.17%</th>\n",
       "      <th>17647</th>\n",
       "    </tr>\n",
       "    <tr>\n",
       "      <th>under 10%</th>\n",
       "      <th>35.27%</th>\n",
       "      <th>11488</th>\n",
       "    </tr>\n",
       "    <tr>\n",
       "      <th>over 15%</th>\n",
       "      <th>10.56%</th>\n",
       "      <th>3441</th>\n",
       "    </tr>\n",
       "  </tbody>\n",
       "</table>\n",
       "</div>"
      ],
      "text/plain": [
       "Empty DataFrame\n",
       "Columns: []\n",
       "Index: [(10% - 15%, 54.17%, 17647), (under 10%, 35.27%, 11488), (over 15%, 10.56%, 3441)]"
      ]
     },
     "execution_count": 304,
     "metadata": {},
     "output_type": "execute_result"
    }
   ],
   "source": [
    "df['int_group'] = np.where(df.loc[:, 'loan_int_rate'] < 10, 'under 10%', \n",
    "                           (np.where((df.loc[:, 'loan_int_rate'] >= 10) & (df.loc[:, 'loan_int_rate'] <= 15), '10% - 15%', 'over 15%')))\n",
    "\n",
    "\n",
    "prettyTable(df, 'int_group')\n"
   ]
  },
  {
   "cell_type": "code",
   "execution_count": 305,
   "metadata": {},
   "outputs": [
    {
     "data": {
      "text/html": [
       "<div>\n",
       "<style scoped>\n",
       "    .dataframe tbody tr th:only-of-type {\n",
       "        vertical-align: middle;\n",
       "    }\n",
       "\n",
       "    .dataframe tbody tr th {\n",
       "        vertical-align: top;\n",
       "    }\n",
       "\n",
       "    .dataframe thead th {\n",
       "        text-align: right;\n",
       "    }\n",
       "</style>\n",
       "<table border=\"1\" class=\"dataframe\">\n",
       "  <thead>\n",
       "    <tr style=\"text-align: right;\">\n",
       "      <th></th>\n",
       "      <th></th>\n",
       "      <th></th>\n",
       "    </tr>\n",
       "    <tr>\n",
       "      <th></th>\n",
       "      <th>age_group</th>\n",
       "      <th>age_group</th>\n",
       "    </tr>\n",
       "  </thead>\n",
       "  <tbody>\n",
       "    <tr>\n",
       "      <th>25 - 35</th>\n",
       "      <th>49.67%</th>\n",
       "      <th>16180</th>\n",
       "    </tr>\n",
       "    <tr>\n",
       "      <th>under 25</th>\n",
       "      <th>37.8%</th>\n",
       "      <th>12315</th>\n",
       "    </tr>\n",
       "    <tr>\n",
       "      <th>over 35</th>\n",
       "      <th>12.53%</th>\n",
       "      <th>4081</th>\n",
       "    </tr>\n",
       "  </tbody>\n",
       "</table>\n",
       "</div>"
      ],
      "text/plain": [
       "Empty DataFrame\n",
       "Columns: []\n",
       "Index: [(25 - 35, 49.67%, 16180), (under 25, 37.8%, 12315), (over 35, 12.53%, 4081)]"
      ]
     },
     "execution_count": 305,
     "metadata": {},
     "output_type": "execute_result"
    }
   ],
   "source": [
    "df['age_group'] = np.where(df['person_age'] <25, 'under 25', \n",
    "                           (np.where((df['person_age'] >= 25) & (df['person_age'] <35), '25 - 35', 'over 35')))\n",
    "\n",
    "\n",
    "prettyTable(df, 'age_group')\n"
   ]
  },
  {
   "cell_type": "code",
   "execution_count": 306,
   "metadata": {},
   "outputs": [
    {
     "data": {
      "text/html": [
       "<div>\n",
       "<style scoped>\n",
       "    .dataframe tbody tr th:only-of-type {\n",
       "        vertical-align: middle;\n",
       "    }\n",
       "\n",
       "    .dataframe tbody tr th {\n",
       "        vertical-align: top;\n",
       "    }\n",
       "\n",
       "    .dataframe thead th {\n",
       "        text-align: right;\n",
       "    }\n",
       "</style>\n",
       "<table border=\"1\" class=\"dataframe\">\n",
       "  <thead>\n",
       "    <tr style=\"text-align: right;\">\n",
       "      <th></th>\n",
       "      <th></th>\n",
       "      <th></th>\n",
       "    </tr>\n",
       "    <tr>\n",
       "      <th></th>\n",
       "      <th>risk_group</th>\n",
       "      <th>risk_group</th>\n",
       "    </tr>\n",
       "  </thead>\n",
       "  <tbody>\n",
       "    <tr>\n",
       "      <th>low risk</th>\n",
       "      <th>65.16%</th>\n",
       "      <th>21225</th>\n",
       "    </tr>\n",
       "    <tr>\n",
       "      <th>medium risk</th>\n",
       "      <th>30.95%</th>\n",
       "      <th>10082</th>\n",
       "    </tr>\n",
       "    <tr>\n",
       "      <th>high risk</th>\n",
       "      <th>3.9%</th>\n",
       "      <th>1269</th>\n",
       "    </tr>\n",
       "  </tbody>\n",
       "</table>\n",
       "</div>"
      ],
      "text/plain": [
       "Empty DataFrame\n",
       "Columns: []\n",
       "Index: [(low risk, 65.16%, 21225), (medium risk, 30.95%, 10082), (high risk, 3.9%, 1269)]"
      ]
     },
     "execution_count": 306,
     "metadata": {},
     "output_type": "execute_result"
    }
   ],
   "source": [
    "df['risk_group'] = np.where((df['loan_grade'] == 'A') | (df['loan_grade'] == 'B'), 'low risk', \n",
    "                           (np.where((df['loan_grade'] == 'C') | (df['loan_grade'] == 'D'), 'medium risk', 'high risk')))\n",
    "\n",
    "\n",
    "prettyTable(df, 'risk_group')\n"
   ]
  },
  {
   "cell_type": "code",
   "execution_count": 307,
   "metadata": {},
   "outputs": [
    {
     "data": {
      "text/html": [
       "<div>\n",
       "<style scoped>\n",
       "    .dataframe tbody tr th:only-of-type {\n",
       "        vertical-align: middle;\n",
       "    }\n",
       "\n",
       "    .dataframe tbody tr th {\n",
       "        vertical-align: top;\n",
       "    }\n",
       "\n",
       "    .dataframe thead th {\n",
       "        text-align: right;\n",
       "    }\n",
       "</style>\n",
       "<table border=\"1\" class=\"dataframe\">\n",
       "  <thead>\n",
       "    <tr style=\"text-align: right;\">\n",
       "      <th></th>\n",
       "      <th></th>\n",
       "      <th></th>\n",
       "    </tr>\n",
       "    <tr>\n",
       "      <th></th>\n",
       "      <th>income_group</th>\n",
       "      <th>income_group</th>\n",
       "    </tr>\n",
       "  </thead>\n",
       "  <tbody>\n",
       "    <tr>\n",
       "      <th>under 65k</th>\n",
       "      <th>61.13%</th>\n",
       "      <th>19913</th>\n",
       "    </tr>\n",
       "    <tr>\n",
       "      <th>65k - 125k</th>\n",
       "      <th>32.33%</th>\n",
       "      <th>10531</th>\n",
       "    </tr>\n",
       "    <tr>\n",
       "      <th>&gt; 125k</th>\n",
       "      <th>6.54%</th>\n",
       "      <th>2132</th>\n",
       "    </tr>\n",
       "  </tbody>\n",
       "</table>\n",
       "</div>"
      ],
      "text/plain": [
       "Empty DataFrame\n",
       "Columns: []\n",
       "Index: [(under 65k, 61.13%, 19913), (65k - 125k, 32.33%, 10531), (> 125k, 6.54%, 2132)]"
      ]
     },
     "execution_count": 307,
     "metadata": {},
     "output_type": "execute_result"
    }
   ],
   "source": [
    "df.person_income.max()\n",
    "\n",
    "df[df['person_income'] == df.person_income.max()]\n",
    "df[df['person_income'] == df.person_income.min()]\n",
    "\n",
    "\n",
    "df['income_group'] = np.where((df['person_income'] < 65000), 'under 65k', \n",
    "                           (np.where((df['person_income'] >= 65000) & (df['person_income'] <= 125000), '65k - 125k', '> 125k')))\n",
    "\n",
    "\n",
    "prettyTable(df, 'income_group')\n"
   ]
  },
  {
   "cell_type": "code",
   "execution_count": 308,
   "metadata": {},
   "outputs": [
    {
     "data": {
      "text/html": [
       "<div>\n",
       "<style scoped>\n",
       "    .dataframe tbody tr th:only-of-type {\n",
       "        vertical-align: middle;\n",
       "    }\n",
       "\n",
       "    .dataframe tbody tr th {\n",
       "        vertical-align: top;\n",
       "    }\n",
       "\n",
       "    .dataframe thead th {\n",
       "        text-align: right;\n",
       "    }\n",
       "</style>\n",
       "<table border=\"1\" class=\"dataframe\">\n",
       "  <thead>\n",
       "    <tr style=\"text-align: right;\">\n",
       "      <th></th>\n",
       "      <th>person_age</th>\n",
       "      <th>person_income</th>\n",
       "      <th>person_home_ownership</th>\n",
       "      <th>person_emp_length</th>\n",
       "      <th>loan_intent</th>\n",
       "      <th>loan_grade</th>\n",
       "      <th>loan_amnt</th>\n",
       "      <th>loan_int_rate</th>\n",
       "      <th>loan_status</th>\n",
       "      <th>loan_percent_income</th>\n",
       "      <th>cb_person_default_on_file</th>\n",
       "      <th>cb_person_cred_hist_length</th>\n",
       "      <th>int_group</th>\n",
       "      <th>age_group</th>\n",
       "      <th>risk_group</th>\n",
       "      <th>income_group</th>\n",
       "    </tr>\n",
       "  </thead>\n",
       "  <tbody>\n",
       "    <tr>\n",
       "      <th>0</th>\n",
       "      <td>22</td>\n",
       "      <td>59000</td>\n",
       "      <td>RENT</td>\n",
       "      <td>123.0</td>\n",
       "      <td>PERSONAL</td>\n",
       "      <td>D</td>\n",
       "      <td>35000</td>\n",
       "      <td>16.02</td>\n",
       "      <td>1</td>\n",
       "      <td>0.59</td>\n",
       "      <td>Y</td>\n",
       "      <td>3</td>\n",
       "      <td>over 15%</td>\n",
       "      <td>under 25</td>\n",
       "      <td>medium risk</td>\n",
       "      <td>under 65k</td>\n",
       "    </tr>\n",
       "    <tr>\n",
       "      <th>1</th>\n",
       "      <td>21</td>\n",
       "      <td>9600</td>\n",
       "      <td>OWN</td>\n",
       "      <td>5.0</td>\n",
       "      <td>EDUCATION</td>\n",
       "      <td>B</td>\n",
       "      <td>1000</td>\n",
       "      <td>11.14</td>\n",
       "      <td>0</td>\n",
       "      <td>0.10</td>\n",
       "      <td>N</td>\n",
       "      <td>2</td>\n",
       "      <td>10% - 15%</td>\n",
       "      <td>under 25</td>\n",
       "      <td>low risk</td>\n",
       "      <td>under 65k</td>\n",
       "    </tr>\n",
       "    <tr>\n",
       "      <th>2</th>\n",
       "      <td>25</td>\n",
       "      <td>9600</td>\n",
       "      <td>MORTGAGE</td>\n",
       "      <td>1.0</td>\n",
       "      <td>MEDICAL</td>\n",
       "      <td>C</td>\n",
       "      <td>5500</td>\n",
       "      <td>12.87</td>\n",
       "      <td>1</td>\n",
       "      <td>0.57</td>\n",
       "      <td>N</td>\n",
       "      <td>3</td>\n",
       "      <td>10% - 15%</td>\n",
       "      <td>25 - 35</td>\n",
       "      <td>medium risk</td>\n",
       "      <td>under 65k</td>\n",
       "    </tr>\n",
       "    <tr>\n",
       "      <th>3</th>\n",
       "      <td>23</td>\n",
       "      <td>65500</td>\n",
       "      <td>RENT</td>\n",
       "      <td>4.0</td>\n",
       "      <td>MEDICAL</td>\n",
       "      <td>C</td>\n",
       "      <td>35000</td>\n",
       "      <td>15.23</td>\n",
       "      <td>1</td>\n",
       "      <td>0.53</td>\n",
       "      <td>N</td>\n",
       "      <td>2</td>\n",
       "      <td>over 15%</td>\n",
       "      <td>under 25</td>\n",
       "      <td>medium risk</td>\n",
       "      <td>65k - 125k</td>\n",
       "    </tr>\n",
       "    <tr>\n",
       "      <th>4</th>\n",
       "      <td>24</td>\n",
       "      <td>54400</td>\n",
       "      <td>RENT</td>\n",
       "      <td>8.0</td>\n",
       "      <td>MEDICAL</td>\n",
       "      <td>C</td>\n",
       "      <td>35000</td>\n",
       "      <td>14.27</td>\n",
       "      <td>1</td>\n",
       "      <td>0.55</td>\n",
       "      <td>Y</td>\n",
       "      <td>4</td>\n",
       "      <td>10% - 15%</td>\n",
       "      <td>under 25</td>\n",
       "      <td>medium risk</td>\n",
       "      <td>under 65k</td>\n",
       "    </tr>\n",
       "  </tbody>\n",
       "</table>\n",
       "</div>"
      ],
      "text/plain": [
       "   person_age  person_income person_home_ownership  person_emp_length  \\\n",
       "0          22          59000                  RENT              123.0   \n",
       "1          21           9600                   OWN                5.0   \n",
       "2          25           9600              MORTGAGE                1.0   \n",
       "3          23          65500                  RENT                4.0   \n",
       "4          24          54400                  RENT                8.0   \n",
       "\n",
       "  loan_intent loan_grade  loan_amnt  loan_int_rate  loan_status  \\\n",
       "0    PERSONAL          D      35000          16.02            1   \n",
       "1   EDUCATION          B       1000          11.14            0   \n",
       "2     MEDICAL          C       5500          12.87            1   \n",
       "3     MEDICAL          C      35000          15.23            1   \n",
       "4     MEDICAL          C      35000          14.27            1   \n",
       "\n",
       "   loan_percent_income cb_person_default_on_file  cb_person_cred_hist_length  \\\n",
       "0                 0.59                         Y                           3   \n",
       "1                 0.10                         N                           2   \n",
       "2                 0.57                         N                           3   \n",
       "3                 0.53                         N                           2   \n",
       "4                 0.55                         Y                           4   \n",
       "\n",
       "   int_group age_group   risk_group income_group  \n",
       "0   over 15%  under 25  medium risk    under 65k  \n",
       "1  10% - 15%  under 25     low risk    under 65k  \n",
       "2  10% - 15%   25 - 35  medium risk    under 65k  \n",
       "3   over 15%  under 25  medium risk   65k - 125k  \n",
       "4  10% - 15%  under 25  medium risk    under 65k  "
      ]
     },
     "execution_count": 308,
     "metadata": {},
     "output_type": "execute_result"
    }
   ],
   "source": [
    "df.head()"
   ]
  },
  {
   "cell_type": "code",
   "execution_count": 309,
   "metadata": {},
   "outputs": [
    {
     "data": {
      "text/html": [
       "<div>\n",
       "<style scoped>\n",
       "    .dataframe tbody tr th:only-of-type {\n",
       "        vertical-align: middle;\n",
       "    }\n",
       "\n",
       "    .dataframe tbody tr th {\n",
       "        vertical-align: top;\n",
       "    }\n",
       "\n",
       "    .dataframe thead th {\n",
       "        text-align: right;\n",
       "    }\n",
       "</style>\n",
       "<table border=\"1\" class=\"dataframe\">\n",
       "  <thead>\n",
       "    <tr style=\"text-align: right;\">\n",
       "      <th></th>\n",
       "      <th></th>\n",
       "      <th></th>\n",
       "    </tr>\n",
       "    <tr>\n",
       "      <th></th>\n",
       "      <th>loan_intent</th>\n",
       "      <th>loan_intent</th>\n",
       "    </tr>\n",
       "  </thead>\n",
       "  <tbody>\n",
       "    <tr>\n",
       "      <th>EDUCATION</th>\n",
       "      <th>19.8%</th>\n",
       "      <th>6451</th>\n",
       "    </tr>\n",
       "    <tr>\n",
       "      <th>MEDICAL</th>\n",
       "      <th>18.64%</th>\n",
       "      <th>6071</th>\n",
       "    </tr>\n",
       "    <tr>\n",
       "      <th>VENTURE</th>\n",
       "      <th>17.55%</th>\n",
       "      <th>5717</th>\n",
       "    </tr>\n",
       "    <tr>\n",
       "      <th>PERSONAL</th>\n",
       "      <th>16.94%</th>\n",
       "      <th>5520</th>\n",
       "    </tr>\n",
       "    <tr>\n",
       "      <th>DEBTCONSOLIDATION</th>\n",
       "      <th>16.0%</th>\n",
       "      <th>5212</th>\n",
       "    </tr>\n",
       "    <tr>\n",
       "      <th>HOMEIMPROVEMENT</th>\n",
       "      <th>11.07%</th>\n",
       "      <th>3605</th>\n",
       "    </tr>\n",
       "  </tbody>\n",
       "</table>\n",
       "</div>"
      ],
      "text/plain": [
       "Empty DataFrame\n",
       "Columns: []\n",
       "Index: [(EDUCATION, 19.8%, 6451), (MEDICAL, 18.64%, 6071), (VENTURE, 17.55%, 5717), (PERSONAL, 16.94%, 5520), (DEBTCONSOLIDATION, 16.0%, 5212), (HOMEIMPROVEMENT, 11.07%, 3605)]"
      ]
     },
     "execution_count": 309,
     "metadata": {},
     "output_type": "execute_result"
    }
   ],
   "source": [
    "prettyTable(df, 'loan_intent')"
   ]
  },
  {
   "cell_type": "code",
   "execution_count": 310,
   "metadata": {},
   "outputs": [
    {
     "data": {
      "text/html": [
       "<div>\n",
       "<style scoped>\n",
       "    .dataframe tbody tr th:only-of-type {\n",
       "        vertical-align: middle;\n",
       "    }\n",
       "\n",
       "    .dataframe tbody tr th {\n",
       "        vertical-align: top;\n",
       "    }\n",
       "\n",
       "    .dataframe thead th {\n",
       "        text-align: right;\n",
       "    }\n",
       "</style>\n",
       "<table border=\"1\" class=\"dataframe\">\n",
       "  <thead>\n",
       "    <tr style=\"text-align: right;\">\n",
       "      <th></th>\n",
       "      <th></th>\n",
       "      <th></th>\n",
       "    </tr>\n",
       "    <tr>\n",
       "      <th></th>\n",
       "      <th>loan_grade</th>\n",
       "      <th>loan_grade</th>\n",
       "    </tr>\n",
       "  </thead>\n",
       "  <tbody>\n",
       "    <tr>\n",
       "      <th>A</th>\n",
       "      <th>33.08%</th>\n",
       "      <th>10777</th>\n",
       "    </tr>\n",
       "    <tr>\n",
       "      <th>B</th>\n",
       "      <th>32.07%</th>\n",
       "      <th>10448</th>\n",
       "    </tr>\n",
       "    <tr>\n",
       "      <th>C</th>\n",
       "      <th>19.82%</th>\n",
       "      <th>6456</th>\n",
       "    </tr>\n",
       "    <tr>\n",
       "      <th>D</th>\n",
       "      <th>11.13%</th>\n",
       "      <th>3626</th>\n",
       "    </tr>\n",
       "    <tr>\n",
       "      <th>E</th>\n",
       "      <th>2.96%</th>\n",
       "      <th>964</th>\n",
       "    </tr>\n",
       "    <tr>\n",
       "      <th>F</th>\n",
       "      <th>0.74%</th>\n",
       "      <th>241</th>\n",
       "    </tr>\n",
       "    <tr>\n",
       "      <th>G</th>\n",
       "      <th>0.2%</th>\n",
       "      <th>64</th>\n",
       "    </tr>\n",
       "  </tbody>\n",
       "</table>\n",
       "</div>"
      ],
      "text/plain": [
       "Empty DataFrame\n",
       "Columns: []\n",
       "Index: [(A, 33.08%, 10777), (B, 32.07%, 10448), (C, 19.82%, 6456), (D, 11.13%, 3626), (E, 2.96%, 964), (F, 0.74%, 241), (G, 0.2%, 64)]"
      ]
     },
     "execution_count": 310,
     "metadata": {},
     "output_type": "execute_result"
    }
   ],
   "source": [
    "prettyTable(df, 'loan_grade')"
   ]
  },
  {
   "cell_type": "code",
   "execution_count": 311,
   "metadata": {},
   "outputs": [
    {
     "data": {
      "text/html": [
       "<div>\n",
       "<style scoped>\n",
       "    .dataframe tbody tr th:only-of-type {\n",
       "        vertical-align: middle;\n",
       "    }\n",
       "\n",
       "    .dataframe tbody tr th {\n",
       "        vertical-align: top;\n",
       "    }\n",
       "\n",
       "    .dataframe thead th {\n",
       "        text-align: right;\n",
       "    }\n",
       "</style>\n",
       "<table border=\"1\" class=\"dataframe\">\n",
       "  <thead>\n",
       "    <tr style=\"text-align: right;\">\n",
       "      <th></th>\n",
       "      <th></th>\n",
       "      <th></th>\n",
       "    </tr>\n",
       "    <tr>\n",
       "      <th></th>\n",
       "      <th>person_home_ownership</th>\n",
       "      <th>person_home_ownership</th>\n",
       "    </tr>\n",
       "  </thead>\n",
       "  <tbody>\n",
       "    <tr>\n",
       "      <th>RENT</th>\n",
       "      <th>50.48%</th>\n",
       "      <th>16443</th>\n",
       "    </tr>\n",
       "    <tr>\n",
       "      <th>MORTGAGE</th>\n",
       "      <th>41.26%</th>\n",
       "      <th>13442</th>\n",
       "    </tr>\n",
       "    <tr>\n",
       "      <th>OWN</th>\n",
       "      <th>7.93%</th>\n",
       "      <th>2584</th>\n",
       "    </tr>\n",
       "    <tr>\n",
       "      <th>OTHER</th>\n",
       "      <th>0.33%</th>\n",
       "      <th>107</th>\n",
       "    </tr>\n",
       "  </tbody>\n",
       "</table>\n",
       "</div>"
      ],
      "text/plain": [
       "Empty DataFrame\n",
       "Columns: []\n",
       "Index: [(RENT, 50.48%, 16443), (MORTGAGE, 41.26%, 13442), (OWN, 7.93%, 2584), (OTHER, 0.33%, 107)]"
      ]
     },
     "execution_count": 311,
     "metadata": {},
     "output_type": "execute_result"
    }
   ],
   "source": [
    "prettyTable(df, 'person_home_ownership')"
   ]
  },
  {
   "cell_type": "code",
   "execution_count": 312,
   "metadata": {},
   "outputs": [
    {
     "data": {
      "text/plain": [
       "123.0"
      ]
     },
     "execution_count": 312,
     "metadata": {},
     "output_type": "execute_result"
    }
   ],
   "source": [
    "min(df['person_emp_length'])\n",
    "max(df['person_emp_length'])"
   ]
  },
  {
   "cell_type": "code",
   "execution_count": 313,
   "metadata": {},
   "outputs": [
    {
     "data": {
      "text/html": [
       "<div>\n",
       "<style scoped>\n",
       "    .dataframe tbody tr th:only-of-type {\n",
       "        vertical-align: middle;\n",
       "    }\n",
       "\n",
       "    .dataframe tbody tr th {\n",
       "        vertical-align: top;\n",
       "    }\n",
       "\n",
       "    .dataframe thead th {\n",
       "        text-align: right;\n",
       "    }\n",
       "</style>\n",
       "<table border=\"1\" class=\"dataframe\">\n",
       "  <thead>\n",
       "    <tr style=\"text-align: right;\">\n",
       "      <th></th>\n",
       "      <th>person_age</th>\n",
       "      <th>person_income</th>\n",
       "      <th>person_home_ownership</th>\n",
       "      <th>person_emp_length</th>\n",
       "      <th>loan_intent</th>\n",
       "      <th>loan_grade</th>\n",
       "      <th>loan_amnt</th>\n",
       "      <th>loan_int_rate</th>\n",
       "      <th>loan_status</th>\n",
       "      <th>loan_percent_income</th>\n",
       "      <th>cb_person_default_on_file</th>\n",
       "      <th>cb_person_cred_hist_length</th>\n",
       "      <th>int_group</th>\n",
       "      <th>age_group</th>\n",
       "      <th>risk_group</th>\n",
       "      <th>income_group</th>\n",
       "    </tr>\n",
       "  </thead>\n",
       "  <tbody>\n",
       "    <tr>\n",
       "      <th>1</th>\n",
       "      <td>21</td>\n",
       "      <td>9600</td>\n",
       "      <td>OWN</td>\n",
       "      <td>5.0</td>\n",
       "      <td>EDUCATION</td>\n",
       "      <td>B</td>\n",
       "      <td>1000</td>\n",
       "      <td>11.14</td>\n",
       "      <td>0</td>\n",
       "      <td>0.10</td>\n",
       "      <td>N</td>\n",
       "      <td>2</td>\n",
       "      <td>10% - 15%</td>\n",
       "      <td>under 25</td>\n",
       "      <td>low risk</td>\n",
       "      <td>under 65k</td>\n",
       "    </tr>\n",
       "    <tr>\n",
       "      <th>2</th>\n",
       "      <td>25</td>\n",
       "      <td>9600</td>\n",
       "      <td>MORTGAGE</td>\n",
       "      <td>1.0</td>\n",
       "      <td>MEDICAL</td>\n",
       "      <td>C</td>\n",
       "      <td>5500</td>\n",
       "      <td>12.87</td>\n",
       "      <td>1</td>\n",
       "      <td>0.57</td>\n",
       "      <td>N</td>\n",
       "      <td>3</td>\n",
       "      <td>10% - 15%</td>\n",
       "      <td>25 - 35</td>\n",
       "      <td>medium risk</td>\n",
       "      <td>under 65k</td>\n",
       "    </tr>\n",
       "    <tr>\n",
       "      <th>3</th>\n",
       "      <td>23</td>\n",
       "      <td>65500</td>\n",
       "      <td>RENT</td>\n",
       "      <td>4.0</td>\n",
       "      <td>MEDICAL</td>\n",
       "      <td>C</td>\n",
       "      <td>35000</td>\n",
       "      <td>15.23</td>\n",
       "      <td>1</td>\n",
       "      <td>0.53</td>\n",
       "      <td>N</td>\n",
       "      <td>2</td>\n",
       "      <td>over 15%</td>\n",
       "      <td>under 25</td>\n",
       "      <td>medium risk</td>\n",
       "      <td>65k - 125k</td>\n",
       "    </tr>\n",
       "    <tr>\n",
       "      <th>4</th>\n",
       "      <td>24</td>\n",
       "      <td>54400</td>\n",
       "      <td>RENT</td>\n",
       "      <td>8.0</td>\n",
       "      <td>MEDICAL</td>\n",
       "      <td>C</td>\n",
       "      <td>35000</td>\n",
       "      <td>14.27</td>\n",
       "      <td>1</td>\n",
       "      <td>0.55</td>\n",
       "      <td>Y</td>\n",
       "      <td>4</td>\n",
       "      <td>10% - 15%</td>\n",
       "      <td>under 25</td>\n",
       "      <td>medium risk</td>\n",
       "      <td>under 65k</td>\n",
       "    </tr>\n",
       "    <tr>\n",
       "      <th>5</th>\n",
       "      <td>21</td>\n",
       "      <td>9900</td>\n",
       "      <td>OWN</td>\n",
       "      <td>2.0</td>\n",
       "      <td>VENTURE</td>\n",
       "      <td>A</td>\n",
       "      <td>2500</td>\n",
       "      <td>7.14</td>\n",
       "      <td>1</td>\n",
       "      <td>0.25</td>\n",
       "      <td>N</td>\n",
       "      <td>2</td>\n",
       "      <td>under 10%</td>\n",
       "      <td>under 25</td>\n",
       "      <td>low risk</td>\n",
       "      <td>under 65k</td>\n",
       "    </tr>\n",
       "  </tbody>\n",
       "</table>\n",
       "</div>"
      ],
      "text/plain": [
       "   person_age  person_income person_home_ownership  person_emp_length  \\\n",
       "1          21           9600                   OWN                5.0   \n",
       "2          25           9600              MORTGAGE                1.0   \n",
       "3          23          65500                  RENT                4.0   \n",
       "4          24          54400                  RENT                8.0   \n",
       "5          21           9900                   OWN                2.0   \n",
       "\n",
       "  loan_intent loan_grade  loan_amnt  loan_int_rate  loan_status  \\\n",
       "1   EDUCATION          B       1000          11.14            0   \n",
       "2     MEDICAL          C       5500          12.87            1   \n",
       "3     MEDICAL          C      35000          15.23            1   \n",
       "4     MEDICAL          C      35000          14.27            1   \n",
       "5     VENTURE          A       2500           7.14            1   \n",
       "\n",
       "   loan_percent_income cb_person_default_on_file  cb_person_cred_hist_length  \\\n",
       "1                 0.10                         N                           2   \n",
       "2                 0.57                         N                           3   \n",
       "3                 0.53                         N                           2   \n",
       "4                 0.55                         Y                           4   \n",
       "5                 0.25                         N                           2   \n",
       "\n",
       "   int_group age_group   risk_group income_group  \n",
       "1  10% - 15%  under 25     low risk    under 65k  \n",
       "2  10% - 15%   25 - 35  medium risk    under 65k  \n",
       "3   over 15%  under 25  medium risk   65k - 125k  \n",
       "4  10% - 15%  under 25  medium risk    under 65k  \n",
       "5  under 10%  under 25     low risk    under 65k  "
      ]
     },
     "execution_count": 313,
     "metadata": {},
     "output_type": "execute_result"
    }
   ],
   "source": [
    "df = df[df['person_emp_length'] < 50]\n",
    "df.head()"
   ]
  },
  {
   "cell_type": "code",
   "execution_count": null,
   "metadata": {},
   "outputs": [],
   "source": []
  },
  {
   "cell_type": "code",
   "execution_count": 314,
   "metadata": {},
   "outputs": [
    {
     "data": {
      "text/plain": [
       "35000"
      ]
     },
     "execution_count": 314,
     "metadata": {},
     "output_type": "execute_result"
    }
   ],
   "source": [
    "min(df['loan_amnt'])\n",
    "max(df['loan_amnt'])"
   ]
  },
  {
   "cell_type": "code",
   "execution_count": 315,
   "metadata": {},
   "outputs": [
    {
     "name": "stderr",
     "output_type": "stream",
     "text": [
      "/opt/anaconda3/lib/python3.7/site-packages/ipykernel_launcher.py:2: SettingWithCopyWarning: \n",
      "A value is trying to be set on a copy of a slice from a DataFrame.\n",
      "Try using .loc[row_indexer,col_indexer] = value instead\n",
      "\n",
      "See the caveats in the documentation: https://pandas.pydata.org/pandas-docs/stable/user_guide/indexing.html#returning-a-view-versus-a-copy\n",
      "  \n"
     ]
    },
    {
     "data": {
      "text/html": [
       "<div>\n",
       "<style scoped>\n",
       "    .dataframe tbody tr th:only-of-type {\n",
       "        vertical-align: middle;\n",
       "    }\n",
       "\n",
       "    .dataframe tbody tr th {\n",
       "        vertical-align: top;\n",
       "    }\n",
       "\n",
       "    .dataframe thead th {\n",
       "        text-align: right;\n",
       "    }\n",
       "</style>\n",
       "<table border=\"1\" class=\"dataframe\">\n",
       "  <thead>\n",
       "    <tr style=\"text-align: right;\">\n",
       "      <th></th>\n",
       "      <th></th>\n",
       "      <th></th>\n",
       "    </tr>\n",
       "    <tr>\n",
       "      <th></th>\n",
       "      <th>loan_size</th>\n",
       "      <th>loan_size</th>\n",
       "    </tr>\n",
       "  </thead>\n",
       "  <tbody>\n",
       "    <tr>\n",
       "      <th>under 10k</th>\n",
       "      <th>57.91%</th>\n",
       "      <th>18862</th>\n",
       "    </tr>\n",
       "    <tr>\n",
       "      <th>10k - 20k</th>\n",
       "      <th>32.42%</th>\n",
       "      <th>10560</th>\n",
       "    </tr>\n",
       "    <tr>\n",
       "      <th>&gt; 20k</th>\n",
       "      <th>9.68%</th>\n",
       "      <th>3152</th>\n",
       "    </tr>\n",
       "  </tbody>\n",
       "</table>\n",
       "</div>"
      ],
      "text/plain": [
       "Empty DataFrame\n",
       "Columns: []\n",
       "Index: [(under 10k, 57.91%, 18862), (10k - 20k, 32.42%, 10560), (> 20k, 9.68%, 3152)]"
      ]
     },
     "execution_count": 315,
     "metadata": {},
     "output_type": "execute_result"
    }
   ],
   "source": [
    "df['loan_size'] = np.where((df['loan_amnt'] < 10000), 'under 10k', \n",
    "                           (np.where((df['loan_amnt'] >= 10000) & (df['loan_amnt'] < 20000), '10k - 20k', '> 20k')))\n",
    "\n",
    "\n",
    "prettyTable(df, 'loan_size')\n"
   ]
  },
  {
   "cell_type": "code",
   "execution_count": null,
   "metadata": {},
   "outputs": [],
   "source": []
  },
  {
   "cell_type": "code",
   "execution_count": 316,
   "metadata": {},
   "outputs": [
    {
     "data": {
      "text/plain": [
       "0.83"
      ]
     },
     "execution_count": 316,
     "metadata": {},
     "output_type": "execute_result"
    }
   ],
   "source": [
    "df.loan_percent_income.min()\n",
    "df.loan_percent_income.max()"
   ]
  },
  {
   "cell_type": "code",
   "execution_count": 317,
   "metadata": {},
   "outputs": [
    {
     "data": {
      "text/html": [
       "<div>\n",
       "<style scoped>\n",
       "    .dataframe tbody tr th:only-of-type {\n",
       "        vertical-align: middle;\n",
       "    }\n",
       "\n",
       "    .dataframe tbody tr th {\n",
       "        vertical-align: top;\n",
       "    }\n",
       "\n",
       "    .dataframe thead th {\n",
       "        text-align: right;\n",
       "    }\n",
       "</style>\n",
       "<table border=\"1\" class=\"dataframe\">\n",
       "  <thead>\n",
       "    <tr style=\"text-align: right;\">\n",
       "      <th></th>\n",
       "      <th>person_age</th>\n",
       "      <th>person_income</th>\n",
       "      <th>person_home_ownership</th>\n",
       "      <th>person_emp_length</th>\n",
       "      <th>loan_intent</th>\n",
       "      <th>loan_grade</th>\n",
       "      <th>loan_amnt</th>\n",
       "      <th>loan_int_rate</th>\n",
       "      <th>loan_status</th>\n",
       "      <th>loan_percent_income</th>\n",
       "      <th>cb_person_default_on_file</th>\n",
       "      <th>cb_person_cred_hist_length</th>\n",
       "      <th>int_group</th>\n",
       "      <th>age_group</th>\n",
       "      <th>risk_group</th>\n",
       "      <th>income_group</th>\n",
       "      <th>loan_size</th>\n",
       "    </tr>\n",
       "  </thead>\n",
       "  <tbody>\n",
       "    <tr>\n",
       "      <th>59</th>\n",
       "      <td>24</td>\n",
       "      <td>12000</td>\n",
       "      <td>OWN</td>\n",
       "      <td>2.0</td>\n",
       "      <td>VENTURE</td>\n",
       "      <td>E</td>\n",
       "      <td>1750</td>\n",
       "      <td>11.011695</td>\n",
       "      <td>0</td>\n",
       "      <td>0.15</td>\n",
       "      <td>Y</td>\n",
       "      <td>3</td>\n",
       "      <td>10% - 15%</td>\n",
       "      <td>under 25</td>\n",
       "      <td>high risk</td>\n",
       "      <td>under 65k</td>\n",
       "      <td>under 10k</td>\n",
       "    </tr>\n",
       "    <tr>\n",
       "      <th>103</th>\n",
       "      <td>25</td>\n",
       "      <td>230000</td>\n",
       "      <td>MORTGAGE</td>\n",
       "      <td>5.0</td>\n",
       "      <td>MEDICAL</td>\n",
       "      <td>C</td>\n",
       "      <td>35000</td>\n",
       "      <td>13.990000</td>\n",
       "      <td>0</td>\n",
       "      <td>0.15</td>\n",
       "      <td>N</td>\n",
       "      <td>4</td>\n",
       "      <td>10% - 15%</td>\n",
       "      <td>25 - 35</td>\n",
       "      <td>medium risk</td>\n",
       "      <td>&gt; 125k</td>\n",
       "      <td>&gt; 20k</td>\n",
       "    </tr>\n",
       "    <tr>\n",
       "      <th>250</th>\n",
       "      <td>22</td>\n",
       "      <td>14400</td>\n",
       "      <td>OWN</td>\n",
       "      <td>0.0</td>\n",
       "      <td>PERSONAL</td>\n",
       "      <td>B</td>\n",
       "      <td>2100</td>\n",
       "      <td>11.140000</td>\n",
       "      <td>0</td>\n",
       "      <td>0.15</td>\n",
       "      <td>N</td>\n",
       "      <td>4</td>\n",
       "      <td>10% - 15%</td>\n",
       "      <td>under 25</td>\n",
       "      <td>low risk</td>\n",
       "      <td>under 65k</td>\n",
       "      <td>under 10k</td>\n",
       "    </tr>\n",
       "    <tr>\n",
       "      <th>301</th>\n",
       "      <td>25</td>\n",
       "      <td>162000</td>\n",
       "      <td>MORTGAGE</td>\n",
       "      <td>5.0</td>\n",
       "      <td>DEBTCONSOLIDATION</td>\n",
       "      <td>E</td>\n",
       "      <td>25000</td>\n",
       "      <td>16.000000</td>\n",
       "      <td>1</td>\n",
       "      <td>0.15</td>\n",
       "      <td>Y</td>\n",
       "      <td>3</td>\n",
       "      <td>over 15%</td>\n",
       "      <td>25 - 35</td>\n",
       "      <td>high risk</td>\n",
       "      <td>&gt; 125k</td>\n",
       "      <td>&gt; 20k</td>\n",
       "    </tr>\n",
       "    <tr>\n",
       "      <th>349</th>\n",
       "      <td>25</td>\n",
       "      <td>165000</td>\n",
       "      <td>MORTGAGE</td>\n",
       "      <td>0.0</td>\n",
       "      <td>HOMEIMPROVEMENT</td>\n",
       "      <td>F</td>\n",
       "      <td>25000</td>\n",
       "      <td>19.740000</td>\n",
       "      <td>0</td>\n",
       "      <td>0.15</td>\n",
       "      <td>N</td>\n",
       "      <td>4</td>\n",
       "      <td>over 15%</td>\n",
       "      <td>25 - 35</td>\n",
       "      <td>high risk</td>\n",
       "      <td>&gt; 125k</td>\n",
       "      <td>&gt; 20k</td>\n",
       "    </tr>\n",
       "    <tr>\n",
       "      <th>...</th>\n",
       "      <td>...</td>\n",
       "      <td>...</td>\n",
       "      <td>...</td>\n",
       "      <td>...</td>\n",
       "      <td>...</td>\n",
       "      <td>...</td>\n",
       "      <td>...</td>\n",
       "      <td>...</td>\n",
       "      <td>...</td>\n",
       "      <td>...</td>\n",
       "      <td>...</td>\n",
       "      <td>...</td>\n",
       "      <td>...</td>\n",
       "      <td>...</td>\n",
       "      <td>...</td>\n",
       "      <td>...</td>\n",
       "      <td>...</td>\n",
       "    </tr>\n",
       "    <tr>\n",
       "      <th>32541</th>\n",
       "      <td>52</td>\n",
       "      <td>163000</td>\n",
       "      <td>MORTGAGE</td>\n",
       "      <td>9.0</td>\n",
       "      <td>PERSONAL</td>\n",
       "      <td>D</td>\n",
       "      <td>25000</td>\n",
       "      <td>14.110000</td>\n",
       "      <td>1</td>\n",
       "      <td>0.15</td>\n",
       "      <td>N</td>\n",
       "      <td>30</td>\n",
       "      <td>10% - 15%</td>\n",
       "      <td>over 35</td>\n",
       "      <td>medium risk</td>\n",
       "      <td>&gt; 125k</td>\n",
       "      <td>&gt; 20k</td>\n",
       "    </tr>\n",
       "    <tr>\n",
       "      <th>32554</th>\n",
       "      <td>60</td>\n",
       "      <td>98000</td>\n",
       "      <td>RENT</td>\n",
       "      <td>1.0</td>\n",
       "      <td>HOMEIMPROVEMENT</td>\n",
       "      <td>D</td>\n",
       "      <td>15000</td>\n",
       "      <td>16.290000</td>\n",
       "      <td>1</td>\n",
       "      <td>0.15</td>\n",
       "      <td>N</td>\n",
       "      <td>29</td>\n",
       "      <td>over 15%</td>\n",
       "      <td>over 35</td>\n",
       "      <td>medium risk</td>\n",
       "      <td>65k - 125k</td>\n",
       "      <td>10k - 20k</td>\n",
       "    </tr>\n",
       "    <tr>\n",
       "      <th>32562</th>\n",
       "      <td>61</td>\n",
       "      <td>160000</td>\n",
       "      <td>MORTGAGE</td>\n",
       "      <td>30.0</td>\n",
       "      <td>PERSONAL</td>\n",
       "      <td>B</td>\n",
       "      <td>24000</td>\n",
       "      <td>10.380000</td>\n",
       "      <td>0</td>\n",
       "      <td>0.15</td>\n",
       "      <td>N</td>\n",
       "      <td>21</td>\n",
       "      <td>10% - 15%</td>\n",
       "      <td>over 35</td>\n",
       "      <td>low risk</td>\n",
       "      <td>&gt; 125k</td>\n",
       "      <td>&gt; 20k</td>\n",
       "    </tr>\n",
       "    <tr>\n",
       "      <th>32577</th>\n",
       "      <td>54</td>\n",
       "      <td>120000</td>\n",
       "      <td>MORTGAGE</td>\n",
       "      <td>4.0</td>\n",
       "      <td>PERSONAL</td>\n",
       "      <td>A</td>\n",
       "      <td>17625</td>\n",
       "      <td>7.490000</td>\n",
       "      <td>0</td>\n",
       "      <td>0.15</td>\n",
       "      <td>N</td>\n",
       "      <td>19</td>\n",
       "      <td>under 10%</td>\n",
       "      <td>over 35</td>\n",
       "      <td>low risk</td>\n",
       "      <td>65k - 125k</td>\n",
       "      <td>10k - 20k</td>\n",
       "    </tr>\n",
       "    <tr>\n",
       "      <th>32580</th>\n",
       "      <td>66</td>\n",
       "      <td>42000</td>\n",
       "      <td>RENT</td>\n",
       "      <td>2.0</td>\n",
       "      <td>MEDICAL</td>\n",
       "      <td>B</td>\n",
       "      <td>6475</td>\n",
       "      <td>9.990000</td>\n",
       "      <td>0</td>\n",
       "      <td>0.15</td>\n",
       "      <td>N</td>\n",
       "      <td>30</td>\n",
       "      <td>under 10%</td>\n",
       "      <td>over 35</td>\n",
       "      <td>low risk</td>\n",
       "      <td>under 65k</td>\n",
       "      <td>under 10k</td>\n",
       "    </tr>\n",
       "  </tbody>\n",
       "</table>\n",
       "<p>1256 rows × 17 columns</p>\n",
       "</div>"
      ],
      "text/plain": [
       "       person_age  person_income person_home_ownership  person_emp_length  \\\n",
       "59             24          12000                   OWN                2.0   \n",
       "103            25         230000              MORTGAGE                5.0   \n",
       "250            22          14400                   OWN                0.0   \n",
       "301            25         162000              MORTGAGE                5.0   \n",
       "349            25         165000              MORTGAGE                0.0   \n",
       "...           ...            ...                   ...                ...   \n",
       "32541          52         163000              MORTGAGE                9.0   \n",
       "32554          60          98000                  RENT                1.0   \n",
       "32562          61         160000              MORTGAGE               30.0   \n",
       "32577          54         120000              MORTGAGE                4.0   \n",
       "32580          66          42000                  RENT                2.0   \n",
       "\n",
       "             loan_intent loan_grade  loan_amnt  loan_int_rate  loan_status  \\\n",
       "59               VENTURE          E       1750      11.011695            0   \n",
       "103              MEDICAL          C      35000      13.990000            0   \n",
       "250             PERSONAL          B       2100      11.140000            0   \n",
       "301    DEBTCONSOLIDATION          E      25000      16.000000            1   \n",
       "349      HOMEIMPROVEMENT          F      25000      19.740000            0   \n",
       "...                  ...        ...        ...            ...          ...   \n",
       "32541           PERSONAL          D      25000      14.110000            1   \n",
       "32554    HOMEIMPROVEMENT          D      15000      16.290000            1   \n",
       "32562           PERSONAL          B      24000      10.380000            0   \n",
       "32577           PERSONAL          A      17625       7.490000            0   \n",
       "32580            MEDICAL          B       6475       9.990000            0   \n",
       "\n",
       "       loan_percent_income cb_person_default_on_file  \\\n",
       "59                    0.15                         Y   \n",
       "103                   0.15                         N   \n",
       "250                   0.15                         N   \n",
       "301                   0.15                         Y   \n",
       "349                   0.15                         N   \n",
       "...                    ...                       ...   \n",
       "32541                 0.15                         N   \n",
       "32554                 0.15                         N   \n",
       "32562                 0.15                         N   \n",
       "32577                 0.15                         N   \n",
       "32580                 0.15                         N   \n",
       "\n",
       "       cb_person_cred_hist_length  int_group age_group   risk_group  \\\n",
       "59                              3  10% - 15%  under 25    high risk   \n",
       "103                             4  10% - 15%   25 - 35  medium risk   \n",
       "250                             4  10% - 15%  under 25     low risk   \n",
       "301                             3   over 15%   25 - 35    high risk   \n",
       "349                             4   over 15%   25 - 35    high risk   \n",
       "...                           ...        ...       ...          ...   \n",
       "32541                          30  10% - 15%   over 35  medium risk   \n",
       "32554                          29   over 15%   over 35  medium risk   \n",
       "32562                          21  10% - 15%   over 35     low risk   \n",
       "32577                          19  under 10%   over 35     low risk   \n",
       "32580                          30  under 10%   over 35     low risk   \n",
       "\n",
       "      income_group  loan_size  \n",
       "59       under 65k  under 10k  \n",
       "103         > 125k      > 20k  \n",
       "250      under 65k  under 10k  \n",
       "301         > 125k      > 20k  \n",
       "349         > 125k      > 20k  \n",
       "...            ...        ...  \n",
       "32541       > 125k      > 20k  \n",
       "32554   65k - 125k  10k - 20k  \n",
       "32562       > 125k      > 20k  \n",
       "32577   65k - 125k  10k - 20k  \n",
       "32580    under 65k  under 10k  \n",
       "\n",
       "[1256 rows x 17 columns]"
      ]
     },
     "execution_count": 317,
     "metadata": {},
     "output_type": "execute_result"
    }
   ],
   "source": [
    "df[df.loan_percent_income == df.loan_percent_income.max()]\n",
    "df[df.loan_percent_income >= .8]\n",
    "df[df.loan_percent_income == df.loan_percent_income.min()]\n",
    "df[df.loan_percent_income == df.loan_percent_income.median()]"
   ]
  },
  {
   "cell_type": "code",
   "execution_count": null,
   "metadata": {},
   "outputs": [],
   "source": []
  },
  {
   "cell_type": "code",
   "execution_count": null,
   "metadata": {},
   "outputs": [],
   "source": []
  },
  {
   "cell_type": "code",
   "execution_count": 320,
   "metadata": {},
   "outputs": [
    {
     "name": "stderr",
     "output_type": "stream",
     "text": [
      "/opt/anaconda3/lib/python3.7/site-packages/ipykernel_launcher.py:2: SettingWithCopyWarning: \n",
      "A value is trying to be set on a copy of a slice from a DataFrame.\n",
      "Try using .loc[row_indexer,col_indexer] = value instead\n",
      "\n",
      "See the caveats in the documentation: https://pandas.pydata.org/pandas-docs/stable/user_guide/indexing.html#returning-a-view-versus-a-copy\n",
      "  \n"
     ]
    },
    {
     "data": {
      "text/html": [
       "<div>\n",
       "<style scoped>\n",
       "    .dataframe tbody tr th:only-of-type {\n",
       "        vertical-align: middle;\n",
       "    }\n",
       "\n",
       "    .dataframe tbody tr th {\n",
       "        vertical-align: top;\n",
       "    }\n",
       "\n",
       "    .dataframe thead th {\n",
       "        text-align: right;\n",
       "    }\n",
       "</style>\n",
       "<table border=\"1\" class=\"dataframe\">\n",
       "  <thead>\n",
       "    <tr style=\"text-align: right;\">\n",
       "      <th></th>\n",
       "      <th></th>\n",
       "      <th></th>\n",
       "    </tr>\n",
       "    <tr>\n",
       "      <th></th>\n",
       "      <th>loan_to_income_grouping</th>\n",
       "      <th>loan_to_income_grouping</th>\n",
       "    </tr>\n",
       "  </thead>\n",
       "  <tbody>\n",
       "    <tr>\n",
       "      <th>10% - 25%</th>\n",
       "      <th>51.04%</th>\n",
       "      <th>16626</th>\n",
       "    </tr>\n",
       "    <tr>\n",
       "      <th>under 10%</th>\n",
       "      <th>27.47%</th>\n",
       "      <th>8948</th>\n",
       "    </tr>\n",
       "    <tr>\n",
       "      <th>&gt; 25%</th>\n",
       "      <th>21.49%</th>\n",
       "      <th>7000</th>\n",
       "    </tr>\n",
       "  </tbody>\n",
       "</table>\n",
       "</div>"
      ],
      "text/plain": [
       "Empty DataFrame\n",
       "Columns: []\n",
       "Index: [(10% - 25%, 51.04%, 16626), (under 10%, 27.47%, 8948), (> 25%, 21.49%, 7000)]"
      ]
     },
     "execution_count": 320,
     "metadata": {},
     "output_type": "execute_result"
    }
   ],
   "source": [
    "df['loan_to_income_grouping'] = np.where((df['loan_percent_income'] < .1), 'under 10%', \n",
    "                           (np.where((df['loan_percent_income'] >= .1) & (df['loan_percent_income'] < .25), '10% - 25%', '> 25%')))\n",
    "\n",
    "\n",
    "prettyTable(df, 'loan_to_income_grouping')\n"
   ]
  },
  {
   "cell_type": "code",
   "execution_count": null,
   "metadata": {},
   "outputs": [],
   "source": []
  },
  {
   "cell_type": "code",
   "execution_count": null,
   "metadata": {},
   "outputs": [],
   "source": []
  },
  {
   "cell_type": "markdown",
   "metadata": {},
   "source": [
    "## EDA and Visuals"
   ]
  },
  {
   "cell_type": "code",
   "execution_count": 165,
   "metadata": {},
   "outputs": [],
   "source": [
    "# groupings of diff categories by loan status\n",
    "# hist of income, emp length\n",
    "\n",
    "# loan status by age, by income level, by home ownnership\n",
    "# by int rate amt, by loan amt"
   ]
  },
  {
   "cell_type": "code",
   "execution_count": null,
   "metadata": {},
   "outputs": [],
   "source": [
    "# explore loan amnts "
   ]
  },
  {
   "cell_type": "code",
   "execution_count": 194,
   "metadata": {},
   "outputs": [
    {
     "data": {
      "text/plain": [
       "['person_age',\n",
       " 'person_income',\n",
       " 'person_home_ownership',\n",
       " 'person_emp_length',\n",
       " 'loan_intent',\n",
       " 'loan_grade',\n",
       " 'loan_amnt',\n",
       " 'loan_int_rate',\n",
       " 'loan_status',\n",
       " 'loan_percent_income',\n",
       " 'cb_person_default_on_file',\n",
       " 'cb_person_cred_hist_length',\n",
       " 'age_group',\n",
       " 'int_group',\n",
       " 'risk_group',\n",
       " 'income_group']"
      ]
     },
     "execution_count": 194,
     "metadata": {},
     "output_type": "execute_result"
    }
   ],
   "source": [
    "df.columns.to_list()"
   ]
  },
  {
   "cell_type": "code",
   "execution_count": 326,
   "metadata": {},
   "outputs": [
    {
     "data": {
      "text/html": [
       "<div>\n",
       "<style scoped>\n",
       "    .dataframe tbody tr th:only-of-type {\n",
       "        vertical-align: middle;\n",
       "    }\n",
       "\n",
       "    .dataframe tbody tr th {\n",
       "        vertical-align: top;\n",
       "    }\n",
       "\n",
       "    .dataframe thead th {\n",
       "        text-align: right;\n",
       "    }\n",
       "</style>\n",
       "<table border=\"1\" class=\"dataframe\">\n",
       "  <thead>\n",
       "    <tr style=\"text-align: right;\">\n",
       "      <th></th>\n",
       "      <th>person_age</th>\n",
       "      <th>person_income</th>\n",
       "      <th>person_home_ownership</th>\n",
       "      <th>person_emp_length</th>\n",
       "      <th>loan_intent</th>\n",
       "      <th>loan_grade</th>\n",
       "      <th>loan_amnt</th>\n",
       "      <th>loan_int_rate</th>\n",
       "      <th>loan_status</th>\n",
       "      <th>loan_percent_income</th>\n",
       "      <th>cb_person_default_on_file</th>\n",
       "      <th>cb_person_cred_hist_length</th>\n",
       "      <th>int_group</th>\n",
       "      <th>age_group</th>\n",
       "      <th>risk_group</th>\n",
       "      <th>income_group</th>\n",
       "      <th>loan_size</th>\n",
       "      <th>loan_to_income_grouping</th>\n",
       "    </tr>\n",
       "  </thead>\n",
       "  <tbody>\n",
       "    <tr>\n",
       "      <th>1</th>\n",
       "      <td>21</td>\n",
       "      <td>9600</td>\n",
       "      <td>OWN</td>\n",
       "      <td>5.0</td>\n",
       "      <td>EDUCATION</td>\n",
       "      <td>B</td>\n",
       "      <td>1000</td>\n",
       "      <td>11.14</td>\n",
       "      <td>0</td>\n",
       "      <td>0.10</td>\n",
       "      <td>N</td>\n",
       "      <td>2</td>\n",
       "      <td>10% - 15%</td>\n",
       "      <td>under 25</td>\n",
       "      <td>low risk</td>\n",
       "      <td>under 65k</td>\n",
       "      <td>under 10k</td>\n",
       "      <td>10% - 25%</td>\n",
       "    </tr>\n",
       "    <tr>\n",
       "      <th>2</th>\n",
       "      <td>25</td>\n",
       "      <td>9600</td>\n",
       "      <td>MORTGAGE</td>\n",
       "      <td>1.0</td>\n",
       "      <td>MEDICAL</td>\n",
       "      <td>C</td>\n",
       "      <td>5500</td>\n",
       "      <td>12.87</td>\n",
       "      <td>1</td>\n",
       "      <td>0.57</td>\n",
       "      <td>N</td>\n",
       "      <td>3</td>\n",
       "      <td>10% - 15%</td>\n",
       "      <td>25 - 35</td>\n",
       "      <td>medium risk</td>\n",
       "      <td>under 65k</td>\n",
       "      <td>under 10k</td>\n",
       "      <td>&gt; 25%</td>\n",
       "    </tr>\n",
       "    <tr>\n",
       "      <th>3</th>\n",
       "      <td>23</td>\n",
       "      <td>65500</td>\n",
       "      <td>RENT</td>\n",
       "      <td>4.0</td>\n",
       "      <td>MEDICAL</td>\n",
       "      <td>C</td>\n",
       "      <td>35000</td>\n",
       "      <td>15.23</td>\n",
       "      <td>1</td>\n",
       "      <td>0.53</td>\n",
       "      <td>N</td>\n",
       "      <td>2</td>\n",
       "      <td>over 15%</td>\n",
       "      <td>under 25</td>\n",
       "      <td>medium risk</td>\n",
       "      <td>65k - 125k</td>\n",
       "      <td>&gt; 20k</td>\n",
       "      <td>&gt; 25%</td>\n",
       "    </tr>\n",
       "  </tbody>\n",
       "</table>\n",
       "</div>"
      ],
      "text/plain": [
       "   person_age  person_income person_home_ownership  person_emp_length  \\\n",
       "1          21           9600                   OWN                5.0   \n",
       "2          25           9600              MORTGAGE                1.0   \n",
       "3          23          65500                  RENT                4.0   \n",
       "\n",
       "  loan_intent loan_grade  loan_amnt  loan_int_rate  loan_status  \\\n",
       "1   EDUCATION          B       1000          11.14            0   \n",
       "2     MEDICAL          C       5500          12.87            1   \n",
       "3     MEDICAL          C      35000          15.23            1   \n",
       "\n",
       "   loan_percent_income cb_person_default_on_file  cb_person_cred_hist_length  \\\n",
       "1                 0.10                         N                           2   \n",
       "2                 0.57                         N                           3   \n",
       "3                 0.53                         N                           2   \n",
       "\n",
       "   int_group age_group   risk_group income_group  loan_size  \\\n",
       "1  10% - 15%  under 25     low risk    under 65k  under 10k   \n",
       "2  10% - 15%   25 - 35  medium risk    under 65k  under 10k   \n",
       "3   over 15%  under 25  medium risk   65k - 125k      > 20k   \n",
       "\n",
       "  loan_to_income_grouping  \n",
       "1               10% - 25%  \n",
       "2                   > 25%  \n",
       "3                   > 25%  "
      ]
     },
     "execution_count": 326,
     "metadata": {},
     "output_type": "execute_result"
    }
   ],
   "source": [
    "df.head(3)"
   ]
  },
  {
   "cell_type": "code",
   "execution_count": 333,
   "metadata": {},
   "outputs": [],
   "source": []
  },
  {
   "cell_type": "code",
   "execution_count": 323,
   "metadata": {},
   "outputs": [
    {
     "data": {
      "text/html": [
       "<div>\n",
       "<style scoped>\n",
       "    .dataframe tbody tr th:only-of-type {\n",
       "        vertical-align: middle;\n",
       "    }\n",
       "\n",
       "    .dataframe tbody tr th {\n",
       "        vertical-align: top;\n",
       "    }\n",
       "\n",
       "    .dataframe thead th {\n",
       "        text-align: right;\n",
       "    }\n",
       "</style>\n",
       "<table border=\"1\" class=\"dataframe\">\n",
       "  <thead>\n",
       "    <tr style=\"text-align: right;\">\n",
       "      <th></th>\n",
       "      <th></th>\n",
       "      <th></th>\n",
       "    </tr>\n",
       "    <tr>\n",
       "      <th></th>\n",
       "      <th>loan_status</th>\n",
       "      <th>loan_status</th>\n",
       "    </tr>\n",
       "  </thead>\n",
       "  <tbody>\n",
       "    <tr>\n",
       "      <th>0</th>\n",
       "      <th>78.18%</th>\n",
       "      <th>25467</th>\n",
       "    </tr>\n",
       "    <tr>\n",
       "      <th>1</th>\n",
       "      <th>21.82%</th>\n",
       "      <th>7107</th>\n",
       "    </tr>\n",
       "  </tbody>\n",
       "</table>\n",
       "</div>"
      ],
      "text/plain": [
       "Empty DataFrame\n",
       "Columns: []\n",
       "Index: [(0, 78.18%, 25467), (1, 21.82%, 7107)]"
      ]
     },
     "execution_count": 323,
     "metadata": {},
     "output_type": "execute_result"
    }
   ],
   "source": [
    "prettyTable(df, 'loan_status')"
   ]
  },
  {
   "cell_type": "code",
   "execution_count": 176,
   "metadata": {},
   "outputs": [
    {
     "data": {
      "text/plain": [
       "loan_status  income_group\n",
       "0            under 65k       0.559901\n",
       "             65k - 125k      0.364668\n",
       "             > 125k          0.075431\n",
       "1            under 65k       0.795413\n",
       "             65k - 125k      0.175039\n",
       "             > 125k          0.029548\n",
       "Name: income_group, dtype: float64"
      ]
     },
     "execution_count": 176,
     "metadata": {},
     "output_type": "execute_result"
    }
   ],
   "source": [
    "df['income_group'].groupby(df.loan_status).value_counts(True)"
   ]
  },
  {
   "cell_type": "code",
   "execution_count": 177,
   "metadata": {},
   "outputs": [
    {
     "data": {
      "text/plain": [
       "income_group  loan_status\n",
       "65k - 125k    0              0.881873\n",
       "              1              0.118127\n",
       "> 125k        0              0.901455\n",
       "              1              0.098545\n",
       "under 65k     0              0.716101\n",
       "              1              0.283899\n",
       "Name: loan_status, dtype: float64"
      ]
     },
     "execution_count": 177,
     "metadata": {},
     "output_type": "execute_result"
    }
   ],
   "source": [
    "df['loan_status'].groupby(df.income_group).value_counts(True)"
   ]
  },
  {
   "cell_type": "code",
   "execution_count": null,
   "metadata": {},
   "outputs": [],
   "source": []
  },
  {
   "cell_type": "code",
   "execution_count": 182,
   "metadata": {},
   "outputs": [
    {
     "data": {
      "text/plain": [
       "loan_status  age_group\n",
       "0            middle       0.502101\n",
       "             young        0.371226\n",
       "             old          0.126674\n",
       "1            middle       0.477417\n",
       "             young        0.402279\n",
       "             old          0.120304\n",
       "Name: age_group, dtype: float64"
      ]
     },
     "execution_count": 182,
     "metadata": {},
     "output_type": "execute_result"
    }
   ],
   "source": [
    "df['age_group'].groupby(df.loan_status).value_counts(True)"
   ]
  },
  {
   "cell_type": "code",
   "execution_count": 181,
   "metadata": {},
   "outputs": [
    {
     "data": {
      "text/plain": [
       "age_group  loan_status\n",
       "middle     0              0.790297\n",
       "           1              0.209703\n",
       "old        0              0.790493\n",
       "           1              0.209507\n",
       "young      0              0.767806\n",
       "           1              0.232194\n",
       "Name: loan_status, dtype: float64"
      ]
     },
     "execution_count": 181,
     "metadata": {},
     "output_type": "execute_result"
    }
   ],
   "source": [
    "df['loan_status'].groupby(df.age_group).value_counts(True)"
   ]
  },
  {
   "cell_type": "code",
   "execution_count": null,
   "metadata": {},
   "outputs": [],
   "source": []
  },
  {
   "cell_type": "code",
   "execution_count": 195,
   "metadata": {},
   "outputs": [
    {
     "data": {
      "text/plain": [
       "loan_status  person_home_ownership\n",
       "0            MORTGAGE                 0.461421\n",
       "             RENT                     0.441787\n",
       "             OWN                      0.093886\n",
       "             OTHER                    0.002906\n",
       "1            RENT                     0.730407\n",
       "             MORTGAGE                 0.237794\n",
       "             OWN                      0.027156\n",
       "             OTHER                    0.004643\n",
       "Name: person_home_ownership, dtype: float64"
      ]
     },
     "execution_count": 195,
     "metadata": {},
     "output_type": "execute_result"
    }
   ],
   "source": [
    "df['person_home_ownership'].groupby(df.loan_status).value_counts(True)"
   ]
  },
  {
   "cell_type": "code",
   "execution_count": 196,
   "metadata": {},
   "outputs": [
    {
     "data": {
      "text/plain": [
       "person_home_ownership  loan_status\n",
       "MORTGAGE               0              0.874265\n",
       "                       1              0.125735\n",
       "OTHER                  0              0.691589\n",
       "                       1              0.308411\n",
       "OWN                    0              0.925310\n",
       "                       1              0.074690\n",
       "RENT                   0              0.684284\n",
       "                       1              0.315716\n",
       "Name: loan_status, dtype: float64"
      ]
     },
     "execution_count": 196,
     "metadata": {},
     "output_type": "execute_result"
    }
   ],
   "source": [
    "df['loan_status'].groupby(df.person_home_ownership).value_counts(True)"
   ]
  },
  {
   "cell_type": "code",
   "execution_count": null,
   "metadata": {},
   "outputs": [],
   "source": []
  },
  {
   "cell_type": "code",
   "execution_count": 197,
   "metadata": {},
   "outputs": [
    {
     "data": {
      "text/plain": [
       "loan_status  loan_intent      \n",
       "0            EDUCATION            0.209683\n",
       "             VENTURE              0.191189\n",
       "             MEDICAL              0.174736\n",
       "             PERSONAL             0.173636\n",
       "             DEBTCONSOLIDATION    0.146150\n",
       "             HOMEIMPROVEMENT      0.104606\n",
       "1            MEDICAL              0.228085\n",
       "             DEBTCONSOLIDATION    0.209652\n",
       "             EDUCATION            0.156325\n",
       "             PERSONAL             0.154355\n",
       "             HOMEIMPROVEMENT      0.132405\n",
       "             VENTURE              0.119178\n",
       "Name: loan_intent, dtype: float64"
      ]
     },
     "execution_count": 197,
     "metadata": {},
     "output_type": "execute_result"
    }
   ],
   "source": [
    "df['loan_intent'].groupby(df.loan_status).value_counts(True)"
   ]
  },
  {
   "cell_type": "code",
   "execution_count": 198,
   "metadata": {},
   "outputs": [
    {
     "data": {
      "text/plain": [
       "loan_intent        loan_status\n",
       "DEBTCONSOLIDATION  0              0.714121\n",
       "                   1              0.285879\n",
       "EDUCATION          0              0.827779\n",
       "                   1              0.172221\n",
       "HOMEIMPROVEMENT    0              0.738974\n",
       "                   1              0.261026\n",
       "MEDICAL            0              0.732993\n",
       "                   1              0.267007\n",
       "PERSONAL           0              0.801232\n",
       "                   1              0.198768\n",
       "VENTURE            0              0.851819\n",
       "                   1              0.148181\n",
       "Name: loan_status, dtype: float64"
      ]
     },
     "execution_count": 198,
     "metadata": {},
     "output_type": "execute_result"
    }
   ],
   "source": [
    "df['loan_status'].groupby(df.loan_intent).value_counts(True)"
   ]
  },
  {
   "cell_type": "code",
   "execution_count": null,
   "metadata": {},
   "outputs": [],
   "source": []
  },
  {
   "cell_type": "code",
   "execution_count": 199,
   "metadata": {},
   "outputs": [
    {
     "data": {
      "text/plain": [
       "loan_status  loan_grade\n",
       "0            A             0.381003\n",
       "             B             0.343464\n",
       "             C             0.200927\n",
       "             D             0.058311\n",
       "             E             0.013468\n",
       "             F             0.002788\n",
       "             G             0.000039\n",
       "1            D             0.301112\n",
       "             B             0.239341\n",
       "             C             0.188406\n",
       "             A             0.150978\n",
       "             E             0.087379\n",
       "             F             0.023920\n",
       "             G             0.008864\n",
       "Name: loan_grade, dtype: float64"
      ]
     },
     "execution_count": 199,
     "metadata": {},
     "output_type": "execute_result"
    }
   ],
   "source": [
    "df['loan_grade'].groupby(df.loan_status).value_counts(True)"
   ]
  },
  {
   "cell_type": "code",
   "execution_count": 201,
   "metadata": {},
   "outputs": [
    {
     "data": {
      "text/plain": [
       "loan_grade  loan_status\n",
       "A           0              0.900427\n",
       "            1              0.099573\n",
       "B           0              0.837194\n",
       "            1              0.162806\n",
       "C           0              0.792596\n",
       "            1              0.207404\n",
       "D           1              0.590345\n",
       "            0              0.409655\n",
       "E           1              0.644191\n",
       "            0              0.355809\n",
       "F           1              0.705394\n",
       "            0              0.294606\n",
       "G           1              0.984375\n",
       "            0              0.015625\n",
       "Name: loan_status, dtype: float64"
      ]
     },
     "execution_count": 201,
     "metadata": {},
     "output_type": "execute_result"
    }
   ],
   "source": [
    "df['loan_status'].groupby(df.loan_grade).value_counts(True)"
   ]
  },
  {
   "cell_type": "code",
   "execution_count": null,
   "metadata": {},
   "outputs": [],
   "source": []
  },
  {
   "cell_type": "code",
   "execution_count": 206,
   "metadata": {},
   "outputs": [
    {
     "data": {
      "text/plain": [
       "loan_status  loan_size\n",
       "0            under 10k    0.599364\n",
       "             10k - 20k    0.318569\n",
       "             > 20k        0.082067\n",
       "1            under 10k    0.506261\n",
       "             10k - 20k    0.344308\n",
       "             > 20k        0.149430\n",
       "Name: loan_size, dtype: float64"
      ]
     },
     "execution_count": 206,
     "metadata": {},
     "output_type": "execute_result"
    }
   ],
   "source": [
    "df['loan_size'].groupby(df.loan_status).value_counts(True)"
   ]
  },
  {
   "cell_type": "code",
   "execution_count": 207,
   "metadata": {},
   "outputs": [
    {
     "data": {
      "text/plain": [
       "loan_size  loan_status\n",
       "10k - 20k  0              0.768277\n",
       "           1              0.231723\n",
       "> 20k      0              0.663071\n",
       "           1              0.336929\n",
       "under 10k  0              0.809246\n",
       "           1              0.190754\n",
       "Name: loan_status, dtype: float64"
      ]
     },
     "execution_count": 207,
     "metadata": {},
     "output_type": "execute_result"
    }
   ],
   "source": [
    "df['loan_status'].groupby(df.loan_size).value_counts(True)"
   ]
  },
  {
   "cell_type": "code",
   "execution_count": null,
   "metadata": {},
   "outputs": [],
   "source": []
  },
  {
   "cell_type": "code",
   "execution_count": 208,
   "metadata": {},
   "outputs": [
    {
     "data": {
      "text/plain": [
       "loan_status  int_group\n",
       "0            10% - 15%    0.540935\n",
       "             under 10%    0.402325\n",
       "             over 15%     0.056740\n",
       "1            10% - 15%    0.544674\n",
       "             over 15%     0.280709\n",
       "             under 10%    0.174617\n",
       "Name: int_group, dtype: float64"
      ]
     },
     "execution_count": 208,
     "metadata": {},
     "output_type": "execute_result"
    }
   ],
   "source": [
    "df['int_group'].groupby(df.loan_status).value_counts(True)"
   ]
  },
  {
   "cell_type": "code",
   "execution_count": 209,
   "metadata": {},
   "outputs": [
    {
     "data": {
      "text/plain": [
       "int_group  loan_status\n",
       "10% - 15%  0              0.780643\n",
       "           1              0.219357\n",
       "over 15%   1              0.579942\n",
       "           0              0.420058\n",
       "under 10%  0              0.891965\n",
       "           1              0.108035\n",
       "Name: loan_status, dtype: float64"
      ]
     },
     "execution_count": 209,
     "metadata": {},
     "output_type": "execute_result"
    }
   ],
   "source": [
    "df['loan_status'].groupby(df.int_group).value_counts(True)"
   ]
  },
  {
   "cell_type": "code",
   "execution_count": null,
   "metadata": {},
   "outputs": [],
   "source": []
  },
  {
   "cell_type": "code",
   "execution_count": 210,
   "metadata": {},
   "outputs": [
    {
     "data": {
      "text/plain": [
       "loan_status  risk_group \n",
       "0            low risk       0.724467\n",
       "             medium risk    0.259237\n",
       "             high risk      0.016296\n",
       "1            medium risk    0.489517\n",
       "             low risk       0.390319\n",
       "             high risk      0.120163\n",
       "Name: risk_group, dtype: float64"
      ]
     },
     "execution_count": 210,
     "metadata": {},
     "output_type": "execute_result"
    }
   ],
   "source": [
    "df['risk_group'].groupby(df.loan_status).value_counts(True)"
   ]
  },
  {
   "cell_type": "code",
   "execution_count": 211,
   "metadata": {},
   "outputs": [
    {
     "data": {
      "text/plain": [
       "risk_group   loan_status\n",
       "high risk    1              0.672971\n",
       "             0              0.327029\n",
       "low risk     0              0.869299\n",
       "             1              0.130701\n",
       "medium risk  0              0.654895\n",
       "             1              0.345105\n",
       "Name: loan_status, dtype: float64"
      ]
     },
     "execution_count": 211,
     "metadata": {},
     "output_type": "execute_result"
    }
   ],
   "source": [
    "df['loan_status'].groupby(df.risk_group).value_counts(True)"
   ]
  },
  {
   "cell_type": "code",
   "execution_count": null,
   "metadata": {},
   "outputs": [],
   "source": []
  },
  {
   "cell_type": "code",
   "execution_count": 212,
   "metadata": {},
   "outputs": [
    {
     "data": {
      "text/plain": [
       "loan_status  income_group\n",
       "0            under 65k       0.559901\n",
       "             65k - 125k      0.364668\n",
       "             > 125k          0.075431\n",
       "1            under 65k       0.795413\n",
       "             65k - 125k      0.175039\n",
       "             > 125k          0.029548\n",
       "Name: income_group, dtype: float64"
      ]
     },
     "execution_count": 212,
     "metadata": {},
     "output_type": "execute_result"
    }
   ],
   "source": [
    "df['income_group'].groupby(df.loan_status).value_counts(True)"
   ]
  },
  {
   "cell_type": "code",
   "execution_count": 213,
   "metadata": {},
   "outputs": [
    {
     "data": {
      "text/plain": [
       "income_group  loan_status\n",
       "65k - 125k    0              0.881873\n",
       "              1              0.118127\n",
       "> 125k        0              0.901455\n",
       "              1              0.098545\n",
       "under 65k     0              0.716101\n",
       "              1              0.283899\n",
       "Name: loan_status, dtype: float64"
      ]
     },
     "execution_count": 213,
     "metadata": {},
     "output_type": "execute_result"
    }
   ],
   "source": [
    "df['loan_status'].groupby(df.income_group).value_counts(True)"
   ]
  },
  {
   "cell_type": "code",
   "execution_count": null,
   "metadata": {},
   "outputs": [],
   "source": []
  },
  {
   "cell_type": "code",
   "execution_count": 321,
   "metadata": {},
   "outputs": [
    {
     "data": {
      "text/plain": [
       "loan_status  loan_to_income_grouping\n",
       "0            10% - 25%                  0.549967\n",
       "             under 10%                  0.310794\n",
       "             > 25%                      0.139239\n",
       "1            > 25%                      0.486000\n",
       "             10% - 25%                  0.368651\n",
       "             under 10%                  0.145350\n",
       "Name: loan_to_income_grouping, dtype: float64"
      ]
     },
     "execution_count": 321,
     "metadata": {},
     "output_type": "execute_result"
    }
   ],
   "source": [
    "df['loan_to_income_grouping'].groupby(df.loan_status).value_counts(True)"
   ]
  },
  {
   "cell_type": "code",
   "execution_count": 322,
   "metadata": {},
   "outputs": [
    {
     "data": {
      "text/plain": [
       "loan_to_income_grouping  loan_status\n",
       "10% - 25%                0              0.842415\n",
       "                         1              0.157585\n",
       "> 25%                    0              0.506571\n",
       "                         1              0.493429\n",
       "under 10%                0              0.884555\n",
       "                         1              0.115445\n",
       "Name: loan_status, dtype: float64"
      ]
     },
     "execution_count": 322,
     "metadata": {},
     "output_type": "execute_result"
    }
   ],
   "source": [
    "df['loan_status'].groupby(df.loan_to_income_grouping).value_counts(True)"
   ]
  },
  {
   "cell_type": "code",
   "execution_count": null,
   "metadata": {},
   "outputs": [],
   "source": []
  },
  {
   "cell_type": "code",
   "execution_count": 324,
   "metadata": {},
   "outputs": [
    {
     "data": {
      "text/plain": [
       "['person_age',\n",
       " 'person_income',\n",
       " 'person_home_ownership',\n",
       " 'person_emp_length',\n",
       " 'loan_intent',\n",
       " 'loan_grade',\n",
       " 'loan_amnt',\n",
       " 'loan_int_rate',\n",
       " 'loan_status',\n",
       " 'loan_percent_income',\n",
       " 'cb_person_default_on_file',\n",
       " 'cb_person_cred_hist_length',\n",
       " 'int_group',\n",
       " 'age_group',\n",
       " 'risk_group',\n",
       " 'income_group',\n",
       " 'loan_size',\n",
       " 'loan_to_income_grouping']"
      ]
     },
     "execution_count": 324,
     "metadata": {},
     "output_type": "execute_result"
    }
   ],
   "source": [
    "df.columns.to_list()"
   ]
  },
  {
   "cell_type": "markdown",
   "metadata": {},
   "source": [
    "**The lower two income groups see higher rates of default, and make up a greater share of the defaults. In particular, the under 65k group sees a much higher level of risk**\n",
    "\n",
    "    * 80% of all defaults are within the under 65k group\n",
    "    * 28% of the under 65k group defaulted"
   ]
  },
  {
   "cell_type": "markdown",
   "metadata": {},
   "source": [
    "**73% of all defaults were in the Rent category (50% of records were renters)**\n",
    "\n",
    "**The Other category and Rent category have a 31% default rate**"
   ]
  },
  {
   "cell_type": "markdown",
   "metadata": {},
   "source": [
    "**Medical and Debt Consolidation make up the highest portions of defaults at 23% and 21% respectively. Debt Consolidation also has the highest Default rate among the Loan Intent categories. This makes sense given that debt consolidtion often takes place among those in difficult financial situations.**"
   ]
  },
  {
   "cell_type": "markdown",
   "metadata": {},
   "source": [
    "**30% of all defaults were grade D, and 24% were grade B. C and D together make up roughly half of all defaults. Grades D, E, F, and G all had default rates of 59% or higher. This makes sense since lower grades equate to higher risk. Higher default rates are expected within these groups. Conversely, grades A, B, and C see default rates of 10%, 16%, and 21% respectively.**"
   ]
  },
  {
   "cell_type": "markdown",
   "metadata": {},
   "source": [
    "**The larger the loan amount, the higher the rate of default. A higher borrowing value means higher payments and therefore higher risk for the borrower.**"
   ]
  }
 ],
 "metadata": {
  "kernelspec": {
   "display_name": "Python 3",
   "language": "python",
   "name": "python3"
  },
  "language_info": {
   "codemirror_mode": {
    "name": "ipython",
    "version": 3
   },
   "file_extension": ".py",
   "mimetype": "text/x-python",
   "name": "python",
   "nbconvert_exporter": "python",
   "pygments_lexer": "ipython3",
   "version": "3.7.4"
  }
 },
 "nbformat": 4,
 "nbformat_minor": 4
}
