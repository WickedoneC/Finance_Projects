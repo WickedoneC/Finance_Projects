{
 "cells": [
  {
   "cell_type": "code",
   "execution_count": null,
   "id": "dfaa6910-4e6b-4742-a37b-07821c30e0e1",
   "metadata": {},
   "outputs": [],
   "source": []
  }
 ],
 "metadata": {
  "kernelspec": {
   "display_name": "Python [conda env:main_env_new] *",
   "language": "python",
   "name": "conda-env-main_env_new-py"
  },
  "language_info": {
   "codemirror_mode": {
    "name": "ipython",
    "version": 3
   },
   "file_extension": ".py",
   "mimetype": "text/x-python",
   "name": "python",
   "nbconvert_exporter": "python",
   "pygments_lexer": "ipython3",
   "version": "3.9.6"
  }
 },
 "nbformat": 4,
 "nbformat_minor": 5
}
